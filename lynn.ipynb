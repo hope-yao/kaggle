{
 "cells": [
  {
   "cell_type": "markdown",
   "metadata": {},
   "source": [
    "# This is the project for Kaggle"
   ]
  },
  {
   "cell_type": "code",
   "execution_count": 28,
   "metadata": {
    "collapsed": false
   },
   "outputs": [
    {
     "name": "stdout",
     "output_type": "stream",
     "text": [
      "Once deleted, variables cannot be recovered. Proceed (y/[n])? y\n"
     ]
    }
   ],
   "source": [
    "% reset\n",
    "import numpy as np\n",
    "from scipy import signal #scipy: scientific python, be used to scientific computation and signal is used to procsess signal \n",
    "import matplotlib #be used to plot \n",
    "import matplotlib.pyplot as plt \n",
    "import pywt #python wavelate transformation \n",
    "from os import walk #walk: be used to read file name\n",
    "\n",
    "from scipy.io import loadmat #be used to get data from .mat document \n",
    "import scipy \n",
    "import numpy as np"
   ]
  },
  {
   "cell_type": "code",
   "execution_count": 29,
   "metadata": {
    "collapsed": false
   },
   "outputs": [
    {
     "name": "stdout",
     "output_type": "stream",
     "text": [
      "16 240000\n"
     ]
    }
   ],
   "source": [
    "num_ch = 0 #number of channels\n",
    "raw_data_length = 0 #\n",
    "\n",
    "def set_globvar_to_one():\n",
    "    global num_ch    # Needed to modify global copy of globvar\n",
    "    num_ch = 16\n",
    "    global raw_data_length    # Needed to modify global copy of globvar\n",
    "    raw_data_length = 400*60*10\n",
    "\n",
    "def print_globvar():\n",
    "    print(num_ch,raw_data_length)     # No need for global declaration to read value of globvar\n",
    "\n",
    "set_globvar_to_one()\n",
    "print_globvar()       # Prints 1"
   ]
  },
  {
   "cell_type": "markdown",
   "metadata": {},
   "source": [
    "## Following code read raw data files"
   ]
  },
  {
   "cell_type": "code",
   "execution_count": 30,
   "metadata": {
    "collapsed": false
   },
   "outputs": [
    {
     "name": "stdout",
     "output_type": "stream",
     "text": [
      "total number of file found: 4\n"
     ]
    }
   ],
   "source": [
    "# mypath = 'C:/Users/p2admin/Downloads/data_kaggle/train_3/'\n",
    "mypath = './datas'\n",
    "f = []\n",
    "for (dirpath, dirnames, filenames) in walk(mypath):\n",
    "#     f.extend(filenames)\n",
    "#     break\n",
    "    for fn in filenames:\n",
    "        if fn[-3:]=='mat':\n",
    "            f.extend([fn])\n",
    "    break\n",
    "file_path = []\n",
    "for x in f:\n",
    "    file_path.extend([dirpath+'/'+x])\n",
    "ttnf = len(file_path)\n",
    "print('total number of file found:',ttnf)"
   ]
  },
  {
   "cell_type": "code",
   "execution_count": 31,
   "metadata": {
    "collapsed": false
   },
   "outputs": [],
   "source": [
    "# loadmat('./sample_data/train_2/1_45_1.mat')"
   ]
  },
  {
   "cell_type": "code",
   "execution_count": 32,
   "metadata": {
    "collapsed": false
   },
   "outputs": [
    {
     "name": "stdout",
     "output_type": "stream",
     "text": [
      "./datas/1_1_0.mat\n",
      "0\n",
      "./datas/1_1_1.mat\n",
      "1\n",
      "./datas/1_2_0.mat\n",
      "2\n",
      "./datas/1_2_1.mat\n",
      "3\n",
      "[[[  3.27575564  19.37265396  44.87042999 -36.38835144]\n",
      "  [ 24.06667709  -1.63778603  27.77331734   5.95662212]\n",
      "  [-54.99739075 -41.80588913  32.64839172  21.09479713]\n",
      "  ..., \n",
      "  [ 22.50750732  62.86169434  -4.29750347  12.79025078]\n",
      "  [ -8.21062088  46.62938309 -54.33244705  30.61270332]\n",
      "  [ 16.26460457 -18.14524078 -34.6019516  -11.85876656]]\n",
      "\n",
      " [[  1.27575576  23.37265396  39.87042999 -33.38835144]\n",
      "  [ 20.06667709  -4.63778591  26.77331734  -1.04337788]\n",
      "  [-64.99739075 -36.80588913  28.64839172  23.09479713]\n",
      "  ..., \n",
      "  [ 24.50750732  70.86169434  -3.29750347  11.79025078]\n",
      "  [ -2.21062064  48.62938309 -51.33244705  33.61270523]\n",
      "  [ 13.26460552 -17.14524078 -27.60194969 -13.85876656]]\n",
      "\n",
      " [[  4.27575588  25.37265396  39.87042999 -25.38835144]\n",
      "  [ 16.06667709 -10.63778591  29.77331734  -4.04337788]\n",
      "  [-63.99739075 -34.80588913  28.64839172  22.09479713]\n",
      "  ..., \n",
      "  [ 25.50750732  84.86169434  -3.29750347  16.79025078]\n",
      "  [ -2.21062064  52.62938309 -50.33244705  31.61270332]\n",
      "  [ 15.26460552 -17.14524078 -31.60194969  -9.85876656]]\n",
      "\n",
      " ..., \n",
      " [[ -4.72424412 -15.62734509   3.87043142  -2.38835096]\n",
      "  [-10.93332291 -36.63778687 -21.22668266 -10.04337788]\n",
      "  [ 17.00261116  21.19410896 -22.35160828  36.09479904]\n",
      "  ..., \n",
      "  [ 31.50750732 -25.13830566  10.70249653  24.79025078]\n",
      "  [ 10.78937912 -11.37061787   0.6675536    2.6127038 ]\n",
      "  [  7.26460552  30.85475922  24.39805031 -24.85876656]]\n",
      "\n",
      " [[-10.72424412 -24.62734604   4.87043142  -1.38835096]\n",
      "  [-15.93332291 -28.63778687 -12.22668266  -4.04337788]\n",
      "  [ 23.00261116  19.19410896 -21.35160828  26.09479713]\n",
      "  ..., \n",
      "  [ 24.50750732 -28.13830566   7.70249653  23.79025078]\n",
      "  [ 14.78937912 -12.37061787   0.6675536    3.6127038 ]\n",
      "  [ 15.26460552  31.85475922  22.39805031 -23.85876656]]\n",
      "\n",
      " [[-11.72424412 -34.62734604   7.87043142   7.61164904]\n",
      "  [-31.93332291 -26.63778687 -13.22668266  -8.04337788]\n",
      "  [ 30.00261116  19.19410896 -22.35160828  25.09479713]\n",
      "  ..., \n",
      "  [ 19.50750732 -31.13830566  10.70249653  14.79025078]\n",
      "  [ 14.78937912 -10.37061787   7.66755342   1.6127038 ]\n",
      "  [ 21.26460457  28.85475922  19.39805031 -23.85876656]]]\n"
     ]
    }
   ],
   "source": [
    "raw_sig = np.zeros((raw_data_length,num_ch,ttnf))\n",
    "\n",
    "label = []\n",
    "for i,fp in enumerate(file_path):\n",
    "    print(fp)\n",
    "    print(i)\n",
    "#     print(fp[-5])\n",
    "    raw_data = loadmat(fp)['dataStruct']\n",
    "    raw_sig[:,:,i] = raw_data[0][0][0]\n",
    "    label.append(fp[-5])\n",
    "    #np.append(raw_sig,raw_data[0][0][0],2)\n",
    "print(raw_sig)"
   ]
  },
  {
   "cell_type": "code",
   "execution_count": null,
   "metadata": {
    "collapsed": true
   },
   "outputs": [],
   "source": [
    ""
   ]
  },
  {
   "cell_type": "code",
   "execution_count": 33,
   "metadata": {
    "collapsed": false
   },
   "outputs": [
    {
     "data": {
      "text/plain": [
       "(240000, 16, 4)"
      ]
     },
     "execution_count": 33,
     "metadata": {},
     "output_type": "execute_result"
    }
   ],
   "source": [
    "raw_sig.shape"
   ]
  },
  {
   "cell_type": "markdown",
   "metadata": {},
   "source": [
    "## Following code handles the case when all channels return zero\n",
    "Lynn is going to do this part"
   ]
  },
  {
   "cell_type": "code",
   "execution_count": 34,
   "metadata": {
    "collapsed": false
   },
   "outputs": [
    {
     "data": {
      "image/png": "[encoded data removed]",
      "text/plain": [
       "<matplotlib.figure.Figure at 0x116f734a8>"
      ]
     },
     "metadata": {},
     "output_type": "display_data"
    }
   ],
   "source": [
    "% matplotlib inline\n",
    "matplotlib.rcParams['figure.figsize'] = (10.0, 10.0)\n",
    "\n",
    "raw_sig.shape\n",
    "sig = raw_sig[:,0,0]\n",
    "plt.subplot(2,1,1)\n",
    "plt.plot(sig)\n",
    "plt.show()\n",
    "\n",
    "for zero_value in raw_sig:\n",
    "    for i in range(len(raw_sig[0,0,:])):\n",
    "        if zero_value[:,i].all == (np.asarray([0,0,0,0,0,0,0,0,0,0,0,0,0,0,0,0])).all:\n",
    "            print(zero_value[:,i])\n",
    "            zero_value[:,i] =  (zero_value[:,i+1] + zero_value[:,i-1]) / 2"
   ]
  },
  {
   "cell_type": "code",
   "execution_count": 5,
   "metadata": {
    "collapsed": false
   },
   "outputs": [
    {
     "name": "stdout",
     "output_type": "stream",
     "text": [
      "[[1, 2], [3, 4]]\n",
      "[[5, 6], [7, 8]]\n"
     ]
    }
   ],
   "source": [
    "A=[[[1, 2],[3, 4]],[[5, 6],[7, 8]]]\n",
    "for i in A:\n",
    "    print(i)"
   ]
  },
  {
   "cell_type": "code",
   "execution_count": 27,
   "metadata": {
    "collapsed": false
   },
   "outputs": [
    {
     "data": {
      "text/plain": [
       "array([  3.27575564,  24.06667709, -54.99739075,  -3.78955483,\n",
       "       -19.48268318, -21.09876251,   6.14820957, -14.25691795,\n",
       "       -17.06541061,  72.93850708, -18.98380661, -26.17956352,\n",
       "        39.67823792,  22.50750732,  -8.21062088,  16.26460457])"
      ]
     },
     "execution_count": 27,
     "metadata": {},
     "output_type": "execute_result"
    }
   ],
   "source": [
    "x = raw_sig[0]\n",
    "x[:, 0]\n",
    "# y = np.asarray([0,0,0,0,0,0,0,0,0,0,0,0,0,0,0,0])\n",
    "# y.shape"
   ]
  },
  {
   "cell_type": "markdown",
   "metadata": {},
   "source": [
    "## Following code extract features from signal using wavelet transform"
   ]
  },
  {
   "cell_type": "code",
   "execution_count": 21,
   "metadata": {
    "collapsed": false
   },
   "outputs": [
    {
     "name": "stdout",
     "output_type": "stream",
     "text": [
      "(240000, 16, 28)\n",
      "60000\n"
     ]
    }
   ],
   "source": [
    "def single_channel_dwt(sig):\n",
    "#     input 240000\n",
    "    coeffs = pywt.wavedec(sig, 'db1', level=6)\n",
    "    cA2, cD6, cD5, cD4, cD3, cD2, cD1 = coeffs\n",
    "    return cD6\n",
    "\n",
    "def multi_channel_dwt(sig):\n",
    "#     input: 240000 * 16\n",
    "#     return: k * 16\n",
    "    F = []\n",
    "    for s_sig in sig.T:\n",
    "        cd = single_channel_dwt(s_sig)\n",
    "        F.append(cd)\n",
    "#     return np.asarray(F)\n",
    "    return F\n",
    "\n",
    "def feature_extraction(sig):\n",
    "#     input: n * 240000 * 16\n",
    "#     return: #files *channels * features\n",
    "    FF = []\n",
    "    for i in range(sig.shape[2]):\n",
    "        F = multi_channel_dwt(raw_sig[:,:,1])\n",
    "        FF.append(F)\n",
    "    return FF\n",
    "\n",
    "print(raw_sig.shape)\n",
    "FF = feature_extraction(raw_sig) \n",
    "\n",
    "Y = []\n",
    "for i,F in enumerate(FF):\n",
    "    tmp = np.asarray(F)\n",
    "    X = np.reshape(tmp,tmp.shape[0]*tmp.shape[1])\n",
    "    Y.append(X)\n",
    "print(len(Y[0]))"
   ]
  },
  {
   "cell_type": "markdown",
   "metadata": {},
   "source": [
    "## Following code do dim reduction\n",
    "Deepak can futher improve\n"
   ]
  },
  {
   "cell_type": "code",
   "execution_count": 22,
   "metadata": {
    "collapsed": false
   },
   "outputs": [],
   "source": [
    "from sklearn.manifold import TSNE\n",
    "X = np.asarray(Y)\n",
    "model = TSNE(n_components=6, random_state=0)\n",
    "np.set_printoptions(suppress=True)\n",
    "T = model.fit_transform(X)"
   ]
  },
  {
   "cell_type": "code",
   "execution_count": 23,
   "metadata": {
    "collapsed": false
   },
   "outputs": [
    {
     "data": {
      "image/png": "[encoded data removed]",
      "text/plain": [
       "<matplotlib.figure.Figure at 0x7f3a867eac18>"
      ]
     },
     "metadata": {},
     "output_type": "display_data"
    }
   ],
   "source": [
    "# from mpl_toolkits.mplot3d import Axes3D\n",
    "# %pylab qt\n",
    "%matplotlib inline\n",
    "\n",
    "fig = plt.figure()\n",
    "# ax = plt.axes(projection='3d')\n",
    "for i,k in enumerate(label):\n",
    "    if k=='0':\n",
    "        plt.plot(T[i,0],T[i,1],'b.')\n",
    "#         ax.scatter(T[i,0],T[i,1],T[i,2],c='b')\n",
    "    else:\n",
    "        plt.plot(T[i,0],T[i,1],'ro')\n",
    "#         ax.scatter(T[i,0],T[i,1],T[i,2],c='r')"
   ]
  },
  {
   "cell_type": "markdown",
   "metadata": {},
   "source": [
    "## Following code do clustering \n",
    "Deepak can to do this"
   ]
  },
  {
   "cell_type": "code",
   "execution_count": null,
   "metadata": {
    "collapsed": false
   },
   "outputs": [],
   "source": [
    ""
   ]
  },
  {
   "cell_type": "markdown",
   "metadata": {},
   "source": [
    "## Following code do classification"
   ]
  },
  {
   "cell_type": "code",
   "execution_count": 24,
   "metadata": {
    "collapsed": false
   },
   "outputs": [],
   "source": [
    "#  Import any additional functionality you may need here\n",
    "from sklearn import cross_validation\n",
    "from sklearn.metrics import accuracy_score\n",
    "from time import time\n",
    "#  Set the number of training points\n",
    "#num_train=\n",
    "import pandas as pd\n",
    "X_all = pd.DataFrame(T)\n",
    "y_all = pd.DataFrame(label)\n",
    "\n",
    "# Set the number of testing points\n",
    "#num_test = X_all.shape[0] - num_train\n",
    "\n",
    "#  Shuffle and split the dataset into the number of training and testing points above\n",
    "rs = cross_validation.ShuffleSplit(28, n_iter=1,test_size=0.25, random_state=0)\n",
    "for train_index, test_index in rs:\n",
    "    # print(\"TRAIN:\", train_index, \"TEST:\", test_index)\n",
    "    X_train = X_all.loc[train_index,]\n",
    "    X_test = X_all.loc[test_index,]\n",
    "    y_train = y_all.loc[train_index,]\n",
    "    y_test = y_all.loc[test_index,]"
   ]
  },
  {
   "cell_type": "code",
   "execution_count": 25,
   "metadata": {
    "collapsed": true
   },
   "outputs": [],
   "source": [
    "def train_classifier(clf, X_train, y_train):\n",
    "    ''' Fits a classifier to the training data. '''\n",
    "    clf.fit(X_train, y_train)\n",
    "   \n",
    "    \n",
    "def predict_labels(clf, features, target):\n",
    "    ''' Makes predictions using a fit classifier based on F1 score. '''\n",
    "    y_pred = clf.predict(features)\n",
    "    return f1_score(target.values, y_pred, pos_label='yes')\n",
    "\n",
    "\n",
    "def train_predict(clf, X_train, y_train, X_test, y_test):\n",
    "    ''' Train and predict using a classifer based on F1 score. '''\n",
    "    \n",
    "    # Indicate the classifier and the training set size\n",
    "    print (\"Training a {} using a training set size of {}. . .\".format(clf.__class__.__name__, len(X_train)))\n",
    "    \n",
    "    # Train the classifier\n",
    "    train_classifier(clf, X_train, y_train)\n",
    "    \n",
    "    # Print the results of prediction for both training and testing\n",
    "#    print (\"F1 score for training set: {:.4f}.\".format(predict_labels(clf, X_train, y_train)))\n",
    " #   print (\"F1 score for test set: {:.4f}.\".format(predict_labels(clf, X_test, y_test)))"
   ]
  },
  {
   "cell_type": "code",
   "execution_count": 26,
   "metadata": {
    "collapsed": false,
    "scrolled": true
   },
   "outputs": [
    {
     "ename": "IndexError",
     "evalue": "too many indices for array",
     "traceback": [
      "\u001b[1;31m---------------------------------------------------------------------------\u001b[0m",
      "\u001b[1;31mIndexError\u001b[0m                                Traceback (most recent call last)",
      "\u001b[1;32m<ipython-input-26-af526cc1c9a5>\u001b[0m in \u001b[0;36m<module>\u001b[1;34m()\u001b[0m\n\u001b[0;32m      9\u001b[0m        param_grid={'C':[0.01,1]},n_jobs=-1)\n\u001b[0;32m     10\u001b[0m \u001b[1;33m\u001b[0m\u001b[0m\n\u001b[1;32m---> 11\u001b[1;33m \u001b[0mclf_A1\u001b[0m\u001b[1;33m.\u001b[0m\u001b[0mfit\u001b[0m\u001b[1;33m(\u001b[0m\u001b[0mX_train\u001b[0m\u001b[1;33m,\u001b[0m\u001b[0my_train\u001b[0m\u001b[1;33m)\u001b[0m\u001b[1;33m\u001b[0m\u001b[0m\n\u001b[0m\u001b[0;32m     12\u001b[0m \u001b[0mprint\u001b[0m \u001b[1;33m(\u001b[0m\u001b[0mclf_A1\u001b[0m\u001b[1;33m.\u001b[0m\u001b[0mbest_params_\u001b[0m\u001b[1;33m)\u001b[0m\u001b[1;33m\u001b[0m\u001b[0m\n\u001b[0;32m     13\u001b[0m \u001b[0mprint\u001b[0m \u001b[1;33m(\u001b[0m\u001b[0mclf_A1\u001b[0m\u001b[1;33m.\u001b[0m\u001b[0mbest_score_\u001b[0m\u001b[1;33m)\u001b[0m\u001b[1;33m\u001b[0m\u001b[0m\n",
      "\u001b[1;32m/home/hope-yao/anaconda3/lib/python3.5/site-packages/sklearn/grid_search.py\u001b[0m in \u001b[0;36mfit\u001b[1;34m(self, X, y)\u001b[0m\n\u001b[0;32m    802\u001b[0m \u001b[1;33m\u001b[0m\u001b[0m\n\u001b[0;32m    803\u001b[0m         \"\"\"\n\u001b[1;32m--> 804\u001b[1;33m         \u001b[1;32mreturn\u001b[0m \u001b[0mself\u001b[0m\u001b[1;33m.\u001b[0m\u001b[0m_fit\u001b[0m\u001b[1;33m(\u001b[0m\u001b[0mX\u001b[0m\u001b[1;33m,\u001b[0m \u001b[0my\u001b[0m\u001b[1;33m,\u001b[0m \u001b[0mParameterGrid\u001b[0m\u001b[1;33m(\u001b[0m\u001b[0mself\u001b[0m\u001b[1;33m.\u001b[0m\u001b[0mparam_grid\u001b[0m\u001b[1;33m)\u001b[0m\u001b[1;33m)\u001b[0m\u001b[1;33m\u001b[0m\u001b[0m\n\u001b[0m\u001b[0;32m    805\u001b[0m \u001b[1;33m\u001b[0m\u001b[0m\n\u001b[0;32m    806\u001b[0m \u001b[1;33m\u001b[0m\u001b[0m\n",
      "\u001b[1;32m/home/hope-yao/anaconda3/lib/python3.5/site-packages/sklearn/grid_search.py\u001b[0m in \u001b[0;36m_fit\u001b[1;34m(self, X, y, parameter_iterable)\u001b[0m\n\u001b[0;32m    530\u001b[0m                                  \u001b[1;34m'of samples (%i) than data (X: %i samples)'\u001b[0m\u001b[1;33m\u001b[0m\u001b[0m\n\u001b[0;32m    531\u001b[0m                                  % (len(y), n_samples))\n\u001b[1;32m--> 532\u001b[1;33m         \u001b[0mcv\u001b[0m \u001b[1;33m=\u001b[0m \u001b[0mcheck_cv\u001b[0m\u001b[1;33m(\u001b[0m\u001b[0mcv\u001b[0m\u001b[1;33m,\u001b[0m \u001b[0mX\u001b[0m\u001b[1;33m,\u001b[0m \u001b[0my\u001b[0m\u001b[1;33m,\u001b[0m \u001b[0mclassifier\u001b[0m\u001b[1;33m=\u001b[0m\u001b[0mis_classifier\u001b[0m\u001b[1;33m(\u001b[0m\u001b[0mestimator\u001b[0m\u001b[1;33m)\u001b[0m\u001b[1;33m)\u001b[0m\u001b[1;33m\u001b[0m\u001b[0m\n\u001b[0m\u001b[0;32m    533\u001b[0m \u001b[1;33m\u001b[0m\u001b[0m\n\u001b[0;32m    534\u001b[0m         \u001b[1;32mif\u001b[0m \u001b[0mself\u001b[0m\u001b[1;33m.\u001b[0m\u001b[0mverbose\u001b[0m \u001b[1;33m>\u001b[0m \u001b[1;36m0\u001b[0m\u001b[1;33m:\u001b[0m\u001b[1;33m\u001b[0m\u001b[0m\n",
      "\u001b[1;32m/home/hope-yao/anaconda3/lib/python3.5/site-packages/sklearn/cross_validation.py\u001b[0m in \u001b[0;36mcheck_cv\u001b[1;34m(cv, X, y, classifier)\u001b[0m\n\u001b[0;32m   1675\u001b[0m         \u001b[1;32mif\u001b[0m \u001b[0mclassifier\u001b[0m\u001b[1;33m:\u001b[0m\u001b[1;33m\u001b[0m\u001b[0m\n\u001b[0;32m   1676\u001b[0m             \u001b[1;32mif\u001b[0m \u001b[0mtype_of_target\u001b[0m\u001b[1;33m(\u001b[0m\u001b[0my\u001b[0m\u001b[1;33m)\u001b[0m \u001b[1;32min\u001b[0m \u001b[1;33m[\u001b[0m\u001b[1;34m'binary'\u001b[0m\u001b[1;33m,\u001b[0m \u001b[1;34m'multiclass'\u001b[0m\u001b[1;33m]\u001b[0m\u001b[1;33m:\u001b[0m\u001b[1;33m\u001b[0m\u001b[0m\n\u001b[1;32m-> 1677\u001b[1;33m                 \u001b[0mcv\u001b[0m \u001b[1;33m=\u001b[0m \u001b[0mStratifiedKFold\u001b[0m\u001b[1;33m(\u001b[0m\u001b[0my\u001b[0m\u001b[1;33m,\u001b[0m \u001b[0mcv\u001b[0m\u001b[1;33m)\u001b[0m\u001b[1;33m\u001b[0m\u001b[0m\n\u001b[0m\u001b[0;32m   1678\u001b[0m             \u001b[1;32melse\u001b[0m\u001b[1;33m:\u001b[0m\u001b[1;33m\u001b[0m\u001b[0m\n\u001b[0;32m   1679\u001b[0m                 \u001b[0mcv\u001b[0m \u001b[1;33m=\u001b[0m \u001b[0mKFold\u001b[0m\u001b[1;33m(\u001b[0m\u001b[0m_num_samples\u001b[0m\u001b[1;33m(\u001b[0m\u001b[0my\u001b[0m\u001b[1;33m)\u001b[0m\u001b[1;33m,\u001b[0m \u001b[0mcv\u001b[0m\u001b[1;33m)\u001b[0m\u001b[1;33m\u001b[0m\u001b[0m\n",
      "\u001b[1;32m/home/hope-yao/anaconda3/lib/python3.5/site-packages/sklearn/cross_validation.py\u001b[0m in \u001b[0;36m__init__\u001b[1;34m(self, y, n_folds, shuffle, random_state)\u001b[0m\n\u001b[0;32m    531\u001b[0m         \u001b[1;32mfor\u001b[0m \u001b[0mtest_fold_idx\u001b[0m\u001b[1;33m,\u001b[0m \u001b[0mper_label_splits\u001b[0m \u001b[1;32min\u001b[0m \u001b[0menumerate\u001b[0m\u001b[1;33m(\u001b[0m\u001b[0mzip\u001b[0m\u001b[1;33m(\u001b[0m\u001b[1;33m*\u001b[0m\u001b[0mper_label_cvs\u001b[0m\u001b[1;33m)\u001b[0m\u001b[1;33m)\u001b[0m\u001b[1;33m:\u001b[0m\u001b[1;33m\u001b[0m\u001b[0m\n\u001b[0;32m    532\u001b[0m             \u001b[1;32mfor\u001b[0m \u001b[0mlabel\u001b[0m\u001b[1;33m,\u001b[0m \u001b[1;33m(\u001b[0m\u001b[0m_\u001b[0m\u001b[1;33m,\u001b[0m \u001b[0mtest_split\u001b[0m\u001b[1;33m)\u001b[0m \u001b[1;32min\u001b[0m \u001b[0mzip\u001b[0m\u001b[1;33m(\u001b[0m\u001b[0munique_labels\u001b[0m\u001b[1;33m,\u001b[0m \u001b[0mper_label_splits\u001b[0m\u001b[1;33m)\u001b[0m\u001b[1;33m:\u001b[0m\u001b[1;33m\u001b[0m\u001b[0m\n\u001b[1;32m--> 533\u001b[1;33m                 \u001b[0mlabel_test_folds\u001b[0m \u001b[1;33m=\u001b[0m \u001b[0mtest_folds\u001b[0m\u001b[1;33m[\u001b[0m\u001b[0my\u001b[0m \u001b[1;33m==\u001b[0m \u001b[0mlabel\u001b[0m\u001b[1;33m]\u001b[0m\u001b[1;33m\u001b[0m\u001b[0m\n\u001b[0m\u001b[0;32m    534\u001b[0m                 \u001b[1;31m# the test split can be too big because we used\u001b[0m\u001b[1;33m\u001b[0m\u001b[1;33m\u001b[0m\u001b[0m\n\u001b[0;32m    535\u001b[0m                 \u001b[1;31m# KFold(max(c, self.n_folds), self.n_folds) instead of\u001b[0m\u001b[1;33m\u001b[0m\u001b[1;33m\u001b[0m\u001b[0m\n",
      "\u001b[1;31mIndexError\u001b[0m: too many indices for array"
     ],
     "output_type": "error"
    }
   ],
   "source": [
    "from sklearn.svm import SVC\n",
    "from sklearn.grid_search import GridSearchCV\n",
    "from sklearn.linear_model import LogisticRegression\n",
    "\n",
    "from sklearn import grid_search\n",
    "from sklearn.metrics import f1_score\n",
    "\n",
    "clf_A1=grid_search.GridSearchCV(cv=3,estimator=LogisticRegression(C=1.0,penalty='l2'),\n",
    "       param_grid={'C':[0.01,1]},n_jobs=-1)\n",
    "\n",
    "clf_A1.fit(X_train,y_train)\n",
    "print (clf_A1.best_params_)\n",
    "print (clf_A1.best_score_)\n",
    "train_predict(clf_A1, X_train, y_train, X_test, y_test)"
   ]
  },
  {
   "cell_type": "code",
   "execution_count": null,
   "metadata": {
    "collapsed": false
   },
   "outputs": [],
   "source": [
    "y_all[y_all==0]='no'\n",
    "y_all[y_all==1]='yes'"
   ]
  },
  {
   "cell_type": "code",
   "execution_count": null,
   "metadata": {
    "collapsed": true
   },
   "outputs": [],
   "source": [
    ""
   ]
  },
  {
   "cell_type": "code",
   "execution_count": null,
   "metadata": {
    "collapsed": false
   },
   "outputs": [],
   "source": [
    "X_all"
   ]
  },
  {
   "cell_type": "code",
   "execution_count": null,
   "metadata": {
    "collapsed": true
   },
   "outputs": [],
   "source": [
    ""
   ]
  }
 ],
 "metadata": {
  "anaconda-cloud": {},
  "kernelspec": {
   "display_name": "Python [Root]",
   "language": "python",
   "name": "Python [Root]"
  },
  "language_info": {
   "codemirror_mode": {
    "name": "ipython",
    "version": 2.0
   },
   "file_extension": ".py",
   "mimetype": "text/x-python",
   "name": "python",
   "nbconvert_exporter": "python",
   "pygments_lexer": "ipython2",
   "version": "2.7.12"
  }
 },
 "nbformat": 4,
 "nbformat_minor": 0
}