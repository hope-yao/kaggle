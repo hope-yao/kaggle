{
 "cells": [
  {
   "cell_type": "code",
   "execution_count": 3,
   "metadata": {
    "collapsed": true
   },
   "outputs": [],
   "source": [
    "### Read Data"
   ]
  },
  {
   "cell_type": "code",
   "execution_count": 4,
   "metadata": {
    "collapsed": false
   },
   "outputs": [],
   "source": [
    "import warnings\n",
    "warnings.filterwarnings('ignore')\n",
    "import numpy as np \n",
    "import seaborn as sns\n",
    "X=np.load('Y.npy.Z.npz')"
   ]
  },
  {
   "cell_type": "code",
   "execution_count": 5,
   "metadata": {
    "collapsed": false
   },
   "outputs": [
    {
     "data": {
      "text/plain": [
       "array([[-100.62499999,  -35.12499948,  -48.62500033, ...,  -84.37499727,\n",
       "          -0.37499999,   60.12500106],\n",
       "       [  62.25000136,  -57.1249998 ,   59.24999922, ...,  -18.8749997 ,\n",
       "          34.62499937,  167.1250007 ],\n",
       "       [  99.25000023, -176.0846274 , -168.00000095, ...,   -7.78257561,\n",
       "          11.25000003,  -89.12500025],\n",
       "       ..., \n",
       "       [   0.        ,    0.        ,    0.        , ...,   66.62500273,\n",
       "          26.75000093,   33.08333576],\n",
       "       [   0.        ,    0.        ,    0.        , ...,  -22.62500014,\n",
       "         270.62501001,  121.49999638],\n",
       "       [ -77.12500202,   15.62499965, -192.37500101, ...,  -83.21564987,\n",
       "          70.85782456,  -50.2499997 ]])"
      ]
     },
     "execution_count": 5,
     "metadata": {},
     "output_type": "execute_result"
    }
   ],
   "source": [
    "X['arr_0']"
   ]
  },
  {
   "cell_type": "code",
   "execution_count": 6,
   "metadata": {
    "collapsed": false
   },
   "outputs": [
    {
     "data": {
      "text/plain": [
       "(1301, 60000)"
      ]
     },
     "execution_count": 6,
     "metadata": {},
     "output_type": "execute_result"
    }
   ],
   "source": [
    "import pandas as pd\n",
    "X=pd.DataFrame(X['arr_0'])\n",
    "X.shape"
   ]
  },
  {
   "cell_type": "code",
   "execution_count": 7,
   "metadata": {
    "collapsed": true
   },
   "outputs": [],
   "source": [
    "import numpy as np\n",
    "train = np.load('train_1.npz')\n",
    "data = pd.DataFrame(train['data'])\n",
    "label = pd.DataFrame(train['label'])"
   ]
  },
  {
   "cell_type": "code",
   "execution_count": 8,
   "metadata": {
    "collapsed": false
   },
   "outputs": [
    {
     "data": {
      "text/html": [
       "<div>\n",
       "<table border=\"1\" class=\"dataframe\">\n",
       "  <thead>\n",
       "    <tr style=\"text-align: right;\">\n",
       "      <th></th>\n",
       "      <th>0</th>\n",
       "      <th>1</th>\n",
       "      <th>2</th>\n",
       "      <th>3</th>\n",
       "      <th>4</th>\n",
       "      <th>5</th>\n",
       "      <th>6</th>\n",
       "      <th>7</th>\n",
       "      <th>8</th>\n",
       "      <th>9</th>\n",
       "      <th>...</th>\n",
       "      <th>59990</th>\n",
       "      <th>59991</th>\n",
       "      <th>59992</th>\n",
       "      <th>59993</th>\n",
       "      <th>59994</th>\n",
       "      <th>59995</th>\n",
       "      <th>59996</th>\n",
       "      <th>59997</th>\n",
       "      <th>59998</th>\n",
       "      <th>59999</th>\n",
       "    </tr>\n",
       "  </thead>\n",
       "  <tbody>\n",
       "    <tr>\n",
       "      <th>0</th>\n",
       "      <td>-100.625000</td>\n",
       "      <td>-35.124999</td>\n",
       "      <td>-48.625000</td>\n",
       "      <td>-7.875000</td>\n",
       "      <td>23.875000</td>\n",
       "      <td>35.500000</td>\n",
       "      <td>-73.125000</td>\n",
       "      <td>49.250000</td>\n",
       "      <td>-44.124999</td>\n",
       "      <td>36.250000</td>\n",
       "      <td>...</td>\n",
       "      <td>34.125002</td>\n",
       "      <td>-3.999999</td>\n",
       "      <td>-12.999998</td>\n",
       "      <td>18.625000</td>\n",
       "      <td>-13.125000</td>\n",
       "      <td>37.125000</td>\n",
       "      <td>-22.625001</td>\n",
       "      <td>-84.374997</td>\n",
       "      <td>-0.375000</td>\n",
       "      <td>60.125001</td>\n",
       "    </tr>\n",
       "    <tr>\n",
       "      <th>1</th>\n",
       "      <td>62.250001</td>\n",
       "      <td>-57.125000</td>\n",
       "      <td>59.249999</td>\n",
       "      <td>19.750000</td>\n",
       "      <td>-8.125000</td>\n",
       "      <td>-68.249999</td>\n",
       "      <td>-29.624999</td>\n",
       "      <td>175.625002</td>\n",
       "      <td>-15.565411</td>\n",
       "      <td>78.125000</td>\n",
       "      <td>...</td>\n",
       "      <td>5.250004</td>\n",
       "      <td>-207.375007</td>\n",
       "      <td>-2.375000</td>\n",
       "      <td>74.375000</td>\n",
       "      <td>46.625000</td>\n",
       "      <td>39.250000</td>\n",
       "      <td>-43.874999</td>\n",
       "      <td>-18.875000</td>\n",
       "      <td>34.624999</td>\n",
       "      <td>167.125001</td>\n",
       "    </tr>\n",
       "    <tr>\n",
       "      <th>2</th>\n",
       "      <td>99.250000</td>\n",
       "      <td>-176.084627</td>\n",
       "      <td>-168.000001</td>\n",
       "      <td>153.500003</td>\n",
       "      <td>-30.499999</td>\n",
       "      <td>197.000000</td>\n",
       "      <td>36.419259</td>\n",
       "      <td>-70.249999</td>\n",
       "      <td>29.625001</td>\n",
       "      <td>104.875001</td>\n",
       "      <td>...</td>\n",
       "      <td>90.875000</td>\n",
       "      <td>105.532576</td>\n",
       "      <td>-129.250000</td>\n",
       "      <td>117.875001</td>\n",
       "      <td>-33.875000</td>\n",
       "      <td>-22.625000</td>\n",
       "      <td>-70.815152</td>\n",
       "      <td>-7.782576</td>\n",
       "      <td>11.250000</td>\n",
       "      <td>-89.125000</td>\n",
       "    </tr>\n",
       "    <tr>\n",
       "      <th>3</th>\n",
       "      <td>-120.097525</td>\n",
       "      <td>705.249995</td>\n",
       "      <td>665.249993</td>\n",
       "      <td>-52.097519</td>\n",
       "      <td>10.749999</td>\n",
       "      <td>72.847524</td>\n",
       "      <td>-156.570039</td>\n",
       "      <td>19.500002</td>\n",
       "      <td>30.250004</td>\n",
       "      <td>72.875003</td>\n",
       "      <td>...</td>\n",
       "      <td>-19.750001</td>\n",
       "      <td>-96.249997</td>\n",
       "      <td>73.999999</td>\n",
       "      <td>101.125002</td>\n",
       "      <td>-29.250000</td>\n",
       "      <td>-63.249999</td>\n",
       "      <td>-57.000000</td>\n",
       "      <td>122.388558</td>\n",
       "      <td>-12.249999</td>\n",
       "      <td>19.874998</td>\n",
       "    </tr>\n",
       "    <tr>\n",
       "      <th>4</th>\n",
       "      <td>-87.568298</td>\n",
       "      <td>267.125000</td>\n",
       "      <td>-213.681702</td>\n",
       "      <td>178.250000</td>\n",
       "      <td>121.875000</td>\n",
       "      <td>-50.193298</td>\n",
       "      <td>176.500000</td>\n",
       "      <td>-14.375000</td>\n",
       "      <td>-113.250000</td>\n",
       "      <td>183.068298</td>\n",
       "      <td>...</td>\n",
       "      <td>-185.000003</td>\n",
       "      <td>248.208936</td>\n",
       "      <td>-636.499998</td>\n",
       "      <td>108.875004</td>\n",
       "      <td>79.833032</td>\n",
       "      <td>43.500001</td>\n",
       "      <td>-149.625001</td>\n",
       "      <td>241.749997</td>\n",
       "      <td>-355.250000</td>\n",
       "      <td>264.583035</td>\n",
       "    </tr>\n",
       "  </tbody>\n",
       "</table>\n",
       "<p>5 rows × 60000 columns</p>\n",
       "</div>"
      ],
      "text/plain": [
       "        0           1           2           3           4           5      \\\n",
       "0 -100.625000  -35.124999  -48.625000   -7.875000   23.875000   35.500000   \n",
       "1   62.250001  -57.125000   59.249999   19.750000   -8.125000  -68.249999   \n",
       "2   99.250000 -176.084627 -168.000001  153.500003  -30.499999  197.000000   \n",
       "3 -120.097525  705.249995  665.249993  -52.097519   10.749999   72.847524   \n",
       "4  -87.568298  267.125000 -213.681702  178.250000  121.875000  -50.193298   \n",
       "\n",
       "        6           7           8           9         ...           59990  \\\n",
       "0  -73.125000   49.250000  -44.124999   36.250000     ...       34.125002   \n",
       "1  -29.624999  175.625002  -15.565411   78.125000     ...        5.250004   \n",
       "2   36.419259  -70.249999   29.625001  104.875001     ...       90.875000   \n",
       "3 -156.570039   19.500002   30.250004   72.875003     ...      -19.750001   \n",
       "4  176.500000  -14.375000 -113.250000  183.068298     ...     -185.000003   \n",
       "\n",
       "        59991       59992       59993      59994      59995       59996  \\\n",
       "0   -3.999999  -12.999998   18.625000 -13.125000  37.125000  -22.625001   \n",
       "1 -207.375007   -2.375000   74.375000  46.625000  39.250000  -43.874999   \n",
       "2  105.532576 -129.250000  117.875001 -33.875000 -22.625000  -70.815152   \n",
       "3  -96.249997   73.999999  101.125002 -29.250000 -63.249999  -57.000000   \n",
       "4  248.208936 -636.499998  108.875004  79.833032  43.500001 -149.625001   \n",
       "\n",
       "        59997       59998       59999  \n",
       "0  -84.374997   -0.375000   60.125001  \n",
       "1  -18.875000   34.624999  167.125001  \n",
       "2   -7.782576   11.250000  -89.125000  \n",
       "3  122.388558  -12.249999   19.874998  \n",
       "4  241.749997 -355.250000  264.583035  \n",
       "\n",
       "[5 rows x 60000 columns]"
      ]
     },
     "execution_count": 8,
     "metadata": {},
     "output_type": "execute_result"
    }
   ],
   "source": [
    "data.head()"
   ]
  },
  {
   "cell_type": "markdown",
   "metadata": {},
   "source": [
    "### convert binary to integer"
   ]
  },
  {
   "cell_type": "code",
   "execution_count": 9,
   "metadata": {
    "collapsed": false
   },
   "outputs": [
    {
     "data": {
      "text/plain": [
       "(1301,)"
      ]
     },
     "execution_count": 9,
     "metadata": {},
     "output_type": "execute_result"
    }
   ],
   "source": [
    "label=pd.Series(np.ravel(label.astype(int)))\n",
    "label.shape"
   ]
  },
  {
   "cell_type": "code",
   "execution_count": 10,
   "metadata": {
    "collapsed": false
   },
   "outputs": [
    {
     "data": {
      "text/plain": [
       "(1301,)"
      ]
     },
     "execution_count": 10,
     "metadata": {},
     "output_type": "execute_result"
    }
   ],
   "source": [
    "label.shape"
   ]
  },
  {
   "cell_type": "code",
   "execution_count": 11,
   "metadata": {
    "collapsed": false
   },
   "outputs": [
    {
     "name": "stdout",
     "output_type": "stream",
     "text": [
      "PCA components:\n",
      "[ 0.00154117 -0.001889    0.0003281  ..., -0.00230139  0.00037645\n",
      " -0.00430309]\n",
      " PCA explained variance ratio:\n",
      "[ 0.28525631  0.27528707  0.25941352  0.25577498]\n"
     ]
    }
   ],
   "source": [
    "from sklearn.decomposition import PCA\n",
    "pca = PCA()\n",
    "pca_results=pca.fit(data)\n",
    "# Print the components and the amount of variance in the data contained in each dimension\n",
    "print( 'PCA components:\\n{}'.format(pca.components_[:,0]))\n",
    "type(pca.components_[:,0])\n",
    "print(' PCA explained variance ratio:\\n{}'.format(pca.explained_variance_ratio_[:4]*100))"
   ]
  },
  {
   "cell_type": "markdown",
   "metadata": {},
   "source": [
    "### Looking at Explained Variance (for components=components)"
   ]
  },
  {
   "cell_type": "code",
   "execution_count": 12,
   "metadata": {
    "collapsed": false
   },
   "outputs": [
    {
     "data": {
      "image/png": "[encoded data removed]",
      "text/plain": [
       "<matplotlib.figure.Figure at 0xae9f780>"
      ]
     },
     "metadata": {},
     "output_type": "display_data"
    }
   ],
   "source": [
    "import matplotlib.pyplot as plt\n",
    "plt.figure(figsize=(10,8))\n",
    "components=1000\n",
    "\n",
    "%matplotlib inline\n",
    "\n",
    "\n",
    "# create an x-axis variable for each pca component\n",
    "x = np.arange(1,components+1)\n",
    "\n",
    "# plot the cumulative variance\n",
    "plt.plot(x, np.cumsum(pca.explained_variance_ratio_[0:components]), '-o', color='black')\n",
    "\n",
    "# plot the components' variance\n",
    "plt.bar(x, pca.explained_variance_ratio_[0:components], align='center', alpha=0.5)\n",
    "\n",
    "# plot styling\n",
    "plt.ylim(0, 1.05)\n",
    "#plt.annotate('Cumulative\\nexplained\\nvariance',\n",
    " #            xy=(3.7, .88), arrowprops=dict(arrowstyle='->'), xytext=(4.5, .6))\n",
    "for i,j in zip(x, np.cumsum(pca.explained_variance_ratio_[0:4])):\n",
    "    plt.annotate(str(j.round(2)),xy=(i+.2,j-.02))\n",
    "plt.xticks(range(1,5))\n",
    "plt.xlabel('PCA components')\n",
    "plt.ylabel('Explained Variance')\n",
    "plt.show()"
   ]
  },
  {
   "cell_type": "code",
   "execution_count": 13,
   "metadata": {
    "collapsed": false
   },
   "outputs": [
    {
     "data": {
      "text/plain": [
       "<matplotlib.legend.Legend at 0xd34e160>"
      ]
     },
     "execution_count": 13,
     "metadata": {},
     "output_type": "execute_result"
    },
    {
     "data": {
      "image/png": "[encoded data removed]",
      "text/plain": [
       "<matplotlib.figure.Figure at 0xae86438>"
      ]
     },
     "metadata": {},
     "output_type": "display_data"
    }
   ],
   "source": [
    "import seaborn as sns\n",
    "plt.plot(pca.explained_variance_ratio_,marker='o',LABEL=\"INDUVIDUAL VARIANCE\")\n",
    "plt.xlabel(\"number of pca components\")\n",
    "plt.ylabel(\"variance explained by each dimension\")\n",
    "plt.title(\"Variance Vs PCA Dimensions\")\n",
    "plt.plot(np.cumsum(pca.explained_variance_ratio_),marker='o',LABEL=\"CUMULATIVE VARIANCE\")\n",
    "plt.legend(bbox_to_anchor=(1.00, 1), loc=2, borderaxespad=0.)"
   ]
  },
  {
   "cell_type": "markdown",
   "metadata": {},
   "source": [
    "### Ratio of seizure: not seizure"
   ]
  },
  {
   "cell_type": "code",
   "execution_count": 20,
   "metadata": {
    "collapsed": false
   },
   "outputs": [
    {
     "data": {
      "text/plain": [
       "0    1152\n",
       "1     149\n",
       "dtype: int64"
      ]
     },
     "execution_count": 20,
     "metadata": {},
     "output_type": "execute_result"
    }
   ],
   "source": [
    "#label.columns=['label']\n",
    "label.value_counts()"
   ]
  },
  {
   "cell_type": "markdown",
   "metadata": {},
   "source": [
    "### Sample AUC"
   ]
  },
  {
   "cell_type": "code",
   "execution_count": 50,
   "metadata": {
    "collapsed": false
   },
   "outputs": [],
   "source": [
    "import numpy as np\n",
    "y_true = np.array([0, 0, 1, 1])\n",
    "y_scores = np.array([0.1, 0.4, 0.35, 0.8])\n",
    "#roc_auc_score(y_true, y_scores)"
   ]
  },
  {
   "cell_type": "markdown",
   "metadata": {
    "collapsed": false
   },
   "source": [
    "### Model Building"
   ]
  },
  {
   "cell_type": "code",
   "execution_count": 40,
   "metadata": {
    "collapsed": true
   },
   "outputs": [],
   "source": [
    "def train_classifier(clf, X_train, y_train):\n",
    "    ''' Fits a classifier to the training data. '''\n",
    "    \n",
    "    # Start the clock, train the classifier, then stop the clock\n",
    "    start = time()\n",
    "    clf.fit(X_train, y_train)\n",
    "    end = time()\n",
    "    \n",
    "    # Print the results\n",
    "    print (\"Trained model in {:.4f} seconds\".format(end - start))\n",
    "\n",
    "    \n",
    "def predict_labels(clf, features, target):\n",
    "    ''' Makes predictions using a fit classifier based on F1 score. '''\n",
    "    \n",
    "    # Start the clock, make predictions, then stop the clock\n",
    "    start = time()\n",
    "    y_pred = clf.predict(features)\n",
    "    end = time()\n",
    "    \n",
    "    # Print and return results\n",
    "    print (\"ROC score    : {:.4f}.\".format(roc_auc_score(np.array(target.values), np.array(y_pred))))\n",
    "    print (\"Made predictions in {:.4f} seconds.\".format(end - start))\n",
    "    return  f1_score(target.values, y_pred,pos_label=0)\n",
    "\n",
    "\n",
    "def train_predict(clf, X_train, y_train, X_test, y_test):\n",
    "    ''' Train and predict using a classifer based on F1 score. '''\n",
    "    \n",
    "    # Indicate the classifier and the training set size\n",
    "    print (\"Training a {} using a training set size of {}. . .\".format(clf.__class__.__name__, len(X_train)))\n",
    "    \n",
    "    # Train the classifier\n",
    "    train_classifier(clf, X_train, y_train)\n",
    "    # Print the results of prediction for both training and testing\n",
    "\n",
    "    print (\"F1 score for training set: {:.4f}.\".format(predict_labels(clf, X_train, y_train)))\n",
    "    print (\"F1 score for test set: {:.4f}.\".format(predict_labels(clf, X_test, y_test)))\n",
    "   # print(\"Accuracy/Correctly Classified: {:.4f}.\".format(metrics.accuracy_score(y_test, predicted)))"
   ]
  },
  {
   "cell_type": "markdown",
   "metadata": {},
   "source": [
    "### ShuffleSplit Crossvalidation"
   ]
  },
  {
   "cell_type": "code",
   "execution_count": 78,
   "metadata": {
    "collapsed": false
   },
   "outputs": [
    {
     "name": "stdout",
     "output_type": "stream",
     "text": [
      "Training set has 800 samples.\n",
      "Testing set has 501 samples.\n"
     ]
    }
   ],
   "source": [
    "#  Import any additional functionality you may need here\n",
    "from sklearn import cross_validation\n",
    "from sklearn.metrics import accuracy_score\n",
    "from time import time\n",
    "from sklearn.metrics import f1_score\n",
    "from sklearn.metrics import roc_auc_score\n",
    "\n",
    "# TODO: Import the three supervised learning models from sklearn\n",
    "# from sklearn import model_A\n",
    "from sklearn.linear_model import LogisticRegression\n",
    "# from sklearn import model_B\n",
    "from sklearn.svm import SVC\n",
    "# from skearln import model_C\n",
    "from sklearn.neighbors import KNeighborsClassifier\n",
    "\n",
    "\n",
    "#  Set the number of training points\n",
    "num_train=800\n",
    "\n",
    "# Set the number of testing points\n",
    "num_test = data.shape[0] - num_train\n",
    "\n",
    "#  Shuffle and split the dataset into the number of training and testing points above\n",
    "rs = cross_validation.ShuffleSplit(1301, n_iter=1,test_size=num_test, random_state=0)\n",
    "for train_index, test_index in rs:\n",
    "   # print(\"TRAIN:\", train_index, \"TEST:\", test_index)\n",
    "    X_train = data.loc[train_index,]\n",
    "    X_test = data.loc[test_index,]\n",
    "    y_train = (label.loc[train_index,].astype(int))\n",
    "    y_test = label.loc[test_index,].astype(int)\n",
    "    \n",
    "clf_A = LogisticRegression()\n",
    "clf_B = SVC()\n",
    "clf_C = KNeighborsClassifier(n_neighbors=25,weights='uniform')    \n",
    "    \n",
    "    \n",
    "#X_train,X_test,y_train,y_test=train_test_split(data,label,test_size=num_train,random_state=4)\n",
    "\n",
    "# Show the results of the split\n",
    "print(\"Training set has {} samples.\".format(X_train.shape[0]))\n",
    "print (\"Testing set has {} samples.\".format(X_test.shape[0]))\n",
    "\n",
    "#y_train.index"
   ]
  },
  {
   "cell_type": "markdown",
   "metadata": {},
   "source": [
    "### Sanity Check"
   ]
  },
  {
   "cell_type": "code",
   "execution_count": 81,
   "metadata": {
    "collapsed": false
   },
   "outputs": [
    {
     "data": {
      "text/plain": [
       "0    715\n",
       "1     85\n",
       "dtype: int64"
      ]
     },
     "execution_count": 81,
     "metadata": {},
     "output_type": "execute_result"
    }
   ],
   "source": [
    "#y_train=y_train.reset_index()\n",
    "y_train.value_counts()"
   ]
  },
  {
   "cell_type": "code",
   "execution_count": 27,
   "metadata": {
    "collapsed": false
   },
   "outputs": [
    {
     "data": {
      "text/plain": [
       "pandas.core.frame.DataFrame"
      ]
     },
     "execution_count": 27,
     "metadata": {},
     "output_type": "execute_result"
    }
   ],
   "source": [
    "type(X_train[:800])"
   ]
  },
  {
   "cell_type": "code",
   "execution_count": 28,
   "metadata": {
    "collapsed": false
   },
   "outputs": [
    {
     "data": {
      "text/plain": [
       "(800,)"
      ]
     },
     "execution_count": 28,
     "metadata": {},
     "output_type": "execute_result"
    }
   ],
   "source": [
    "y_train=np.ravel(y_train)\n",
    "y_train.shape"
   ]
  },
  {
   "cell_type": "code",
   "execution_count": 82,
   "metadata": {
    "collapsed": false
   },
   "outputs": [
    {
     "name": "stdout",
     "output_type": "stream",
     "text": [
      "The Zen of Python, by Tim Peters\n",
      "\n",
      "Beautiful is better than ugly.\n",
      "Explicit is better than implicit.\n",
      "Simple is better than complex.\n",
      "Complex is better than complicated.\n",
      "Flat is better than nested.\n",
      "Sparse is better than dense.\n",
      "Readability counts.\n",
      "Special cases aren't special enough to break the rules.\n",
      "Although practicality beats purity.\n",
      "Errors should never pass silently.\n",
      "Unless explicitly silenced.\n",
      "In the face of ambiguity, refuse the temptation to guess.\n",
      "There should be one-- and preferably only one --obvious way to do it.\n",
      "Although that way may not be obvious at first unless you're Dutch.\n",
      "Now is better than never.\n",
      "Although never is often better than *right* now.\n",
      "If the implementation is hard to explain, it's a bad idea.\n",
      "If the implementation is easy to explain, it may be a good idea.\n",
      "Namespaces are one honking great idea -- let's do more of those!\n"
     ]
    }
   ],
   "source": [
    "import this"
   ]
  },
  {
   "cell_type": "markdown",
   "metadata": {},
   "source": [
    "### Testing Model Performance "
   ]
  },
  {
   "cell_type": "code",
   "execution_count": 56,
   "metadata": {
    "collapsed": false
   },
   "outputs": [
    {
     "name": "stdout",
     "output_type": "stream",
     "text": [
      "ROC score    : 0.4956.\n"
     ]
    }
   ],
   "source": [
    "clf_A.fit(X_train, y_train)\n",
    "y_pred = clf_A.predict(X_test)\n",
    "print (\"ROC score    : {:.4f}.\".format(roc_auc_score(np.array(y_test), np.array(y_pred))))"
   ]
  },
  {
   "cell_type": "code",
   "execution_count": 59,
   "metadata": {
    "collapsed": false
   },
   "outputs": [
    {
     "name": "stdout",
     "output_type": "stream",
     "text": [
      "ROC score    : 0.5000.\n"
     ]
    }
   ],
   "source": [
    "#clf_B.fit(X_train, y_train)\n",
    "y_pred = clf_B.predict(X_test)\n",
    "print (\"ROC score    : {:.4f}.\".format(roc_auc_score(np.array(y_test), np.array(y_pred))))"
   ]
  },
  {
   "cell_type": "code",
   "execution_count": 60,
   "metadata": {
    "collapsed": false
   },
   "outputs": [
    {
     "name": "stdout",
     "output_type": "stream",
     "text": [
      "ROC score    : 0.5000.\n"
     ]
    }
   ],
   "source": [
    "#clf_C.fit(X_train, y_train)\n",
    "y_pred = clf_C.predict(X_test)\n",
    "print (\"ROC score    : {:.4f}.\".format(roc_auc_score(np.array(y_test), np.array(y_pred))))"
   ]
  },
  {
   "cell_type": "code",
   "execution_count": 63,
   "metadata": {
    "collapsed": false
   },
   "outputs": [
    {
     "data": {
      "text/html": [
       "<div>\n",
       "<table border=\"1\" class=\"dataframe\">\n",
       "  <thead>\n",
       "    <tr style=\"text-align: right;\">\n",
       "      <th></th>\n",
       "      <th>0</th>\n",
       "      <th>1</th>\n",
       "      <th>2</th>\n",
       "      <th>3</th>\n",
       "      <th>4</th>\n",
       "      <th>5</th>\n",
       "      <th>6</th>\n",
       "      <th>7</th>\n",
       "      <th>8</th>\n",
       "      <th>9</th>\n",
       "      <th>...</th>\n",
       "      <th>59990</th>\n",
       "      <th>59991</th>\n",
       "      <th>59992</th>\n",
       "      <th>59993</th>\n",
       "      <th>59994</th>\n",
       "      <th>59995</th>\n",
       "      <th>59996</th>\n",
       "      <th>59997</th>\n",
       "      <th>59998</th>\n",
       "      <th>59999</th>\n",
       "    </tr>\n",
       "  </thead>\n",
       "  <tbody>\n",
       "    <tr>\n",
       "      <th>1180</th>\n",
       "      <td>35.374999</td>\n",
       "      <td>67.249999</td>\n",
       "      <td>19.875000</td>\n",
       "      <td>27.500002</td>\n",
       "      <td>-11.646060</td>\n",
       "      <td>-73.749999</td>\n",
       "      <td>10.500000</td>\n",
       "      <td>8.875000</td>\n",
       "      <td>24.000000</td>\n",
       "      <td>-95.125000</td>\n",
       "      <td>...</td>\n",
       "      <td>-231.749996</td>\n",
       "      <td>-237.499996</td>\n",
       "      <td>42.625001</td>\n",
       "      <td>-205.125003</td>\n",
       "      <td>929.374999</td>\n",
       "      <td>-384.375015</td>\n",
       "      <td>217.999986</td>\n",
       "      <td>-369.000007</td>\n",
       "      <td>-205.125003</td>\n",
       "      <td>-101.125000</td>\n",
       "    </tr>\n",
       "    <tr>\n",
       "      <th>768</th>\n",
       "      <td>-177.522870</td>\n",
       "      <td>110.375000</td>\n",
       "      <td>16.125002</td>\n",
       "      <td>-69.125000</td>\n",
       "      <td>-93.374998</td>\n",
       "      <td>-45.374999</td>\n",
       "      <td>-53.874999</td>\n",
       "      <td>111.250001</td>\n",
       "      <td>-151.874999</td>\n",
       "      <td>70.750001</td>\n",
       "      <td>...</td>\n",
       "      <td>164.624998</td>\n",
       "      <td>-107.875000</td>\n",
       "      <td>321.374987</td>\n",
       "      <td>-84.999999</td>\n",
       "      <td>-32.500001</td>\n",
       "      <td>48.000000</td>\n",
       "      <td>26.000000</td>\n",
       "      <td>311.680586</td>\n",
       "      <td>-298.874990</td>\n",
       "      <td>-96.875000</td>\n",
       "    </tr>\n",
       "    <tr>\n",
       "      <th>495</th>\n",
       "      <td>155.750000</td>\n",
       "      <td>-97.000001</td>\n",
       "      <td>136.670185</td>\n",
       "      <td>-109.000000</td>\n",
       "      <td>154.874996</td>\n",
       "      <td>-58.250002</td>\n",
       "      <td>-163.625001</td>\n",
       "      <td>27.670180</td>\n",
       "      <td>46.375005</td>\n",
       "      <td>97.750001</td>\n",
       "      <td>...</td>\n",
       "      <td>55.250000</td>\n",
       "      <td>-63.000000</td>\n",
       "      <td>145.125001</td>\n",
       "      <td>-419.124999</td>\n",
       "      <td>90.874999</td>\n",
       "      <td>39.000002</td>\n",
       "      <td>-91.250003</td>\n",
       "      <td>128.735874</td>\n",
       "      <td>381.375001</td>\n",
       "      <td>-117.750001</td>\n",
       "    </tr>\n",
       "    <tr>\n",
       "      <th>47</th>\n",
       "      <td>-153.124998</td>\n",
       "      <td>-41.000002</td>\n",
       "      <td>66.625001</td>\n",
       "      <td>82.624999</td>\n",
       "      <td>148.685066</td>\n",
       "      <td>-222.124999</td>\n",
       "      <td>-58.125002</td>\n",
       "      <td>131.249999</td>\n",
       "      <td>-78.874999</td>\n",
       "      <td>13.000000</td>\n",
       "      <td>...</td>\n",
       "      <td>137.000001</td>\n",
       "      <td>-86.375000</td>\n",
       "      <td>952.750000</td>\n",
       "      <td>-487.500000</td>\n",
       "      <td>-295.250000</td>\n",
       "      <td>522.875000</td>\n",
       "      <td>-176.875000</td>\n",
       "      <td>-167.625000</td>\n",
       "      <td>-270.625000</td>\n",
       "      <td>-489.750000</td>\n",
       "    </tr>\n",
       "    <tr>\n",
       "      <th>746</th>\n",
       "      <td>-180.429131</td>\n",
       "      <td>31.375001</td>\n",
       "      <td>48.749998</td>\n",
       "      <td>189.750006</td>\n",
       "      <td>-493.875006</td>\n",
       "      <td>88.124998</td>\n",
       "      <td>40.249999</td>\n",
       "      <td>105.000003</td>\n",
       "      <td>229.070869</td>\n",
       "      <td>-231.750001</td>\n",
       "      <td>...</td>\n",
       "      <td>-86.789199</td>\n",
       "      <td>108.125001</td>\n",
       "      <td>75.999995</td>\n",
       "      <td>142.000004</td>\n",
       "      <td>52.000002</td>\n",
       "      <td>192.296601</td>\n",
       "      <td>-16.749999</td>\n",
       "      <td>101.500000</td>\n",
       "      <td>-101.625002</td>\n",
       "      <td>59.414196</td>\n",
       "    </tr>\n",
       "  </tbody>\n",
       "</table>\n",
       "<p>5 rows × 60000 columns</p>\n",
       "</div>"
      ],
      "text/plain": [
       "           0           1           2           3           4           5      \\\n",
       "1180   35.374999   67.249999   19.875000   27.500002  -11.646060  -73.749999   \n",
       "768  -177.522870  110.375000   16.125002  -69.125000  -93.374998  -45.374999   \n",
       "495   155.750000  -97.000001  136.670185 -109.000000  154.874996  -58.250002   \n",
       "47   -153.124998  -41.000002   66.625001   82.624999  148.685066 -222.124999   \n",
       "746  -180.429131   31.375001   48.749998  189.750006 -493.875006   88.124998   \n",
       "\n",
       "           6           7           8           9         ...           59990  \\\n",
       "1180   10.500000    8.875000   24.000000  -95.125000     ...     -231.749996   \n",
       "768   -53.874999  111.250001 -151.874999   70.750001     ...      164.624998   \n",
       "495  -163.625001   27.670180   46.375005   97.750001     ...       55.250000   \n",
       "47    -58.125002  131.249999  -78.874999   13.000000     ...      137.000001   \n",
       "746    40.249999  105.000003  229.070869 -231.750001     ...      -86.789199   \n",
       "\n",
       "           59991       59992       59993       59994       59995       59996  \\\n",
       "1180 -237.499996   42.625001 -205.125003  929.374999 -384.375015  217.999986   \n",
       "768  -107.875000  321.374987  -84.999999  -32.500001   48.000000   26.000000   \n",
       "495   -63.000000  145.125001 -419.124999   90.874999   39.000002  -91.250003   \n",
       "47    -86.375000  952.750000 -487.500000 -295.250000  522.875000 -176.875000   \n",
       "746   108.125001   75.999995  142.000004   52.000002  192.296601  -16.749999   \n",
       "\n",
       "           59997       59998       59999  \n",
       "1180 -369.000007 -205.125003 -101.125000  \n",
       "768   311.680586 -298.874990  -96.875000  \n",
       "495   128.735874  381.375001 -117.750001  \n",
       "47   -167.625000 -270.625000 -489.750000  \n",
       "746   101.500000 -101.625002   59.414196  \n",
       "\n",
       "[5 rows x 60000 columns]"
      ]
     },
     "execution_count": 63,
     "metadata": {},
     "output_type": "execute_result"
    }
   ],
   "source": [
    "X_train.head()"
   ]
  },
  {
   "cell_type": "markdown",
   "metadata": {},
   "source": [
    "### Logistic Regression"
   ]
  },
  {
   "cell_type": "code",
   "execution_count": 41,
   "metadata": {
    "collapsed": false
   },
   "outputs": [
    {
     "name": "stdout",
     "output_type": "stream",
     "text": [
      "Training a LogisticRegression using a training set size of 800. . .\n",
      "Trained model in 63.4620 seconds\n",
      "ROC score for training set: 0.9824.\n",
      "Made predictions in 0.0810 seconds.\n",
      "F1 score for training set: 0.9979.\n",
      "ROC score for training set: 0.4956.\n",
      "Made predictions in 0.0630 seconds.\n",
      "F1 score for test set: 0.6769.\n"
     ]
    }
   ],
   "source": [
    "train_predict(clf_A, X_train[:800], pd.Series(y_train[:800]), X_test, pd.Series(y_test))"
   ]
  },
  {
   "cell_type": "code",
   "execution_count": 30,
   "metadata": {
    "collapsed": false
   },
   "outputs": [
    {
     "data": {
      "image/png": "[encoded data removed]",
      "text/plain": [
       "<matplotlib.figure.Figure at 0xd64f048>"
      ]
     },
     "metadata": {},
     "output_type": "display_data"
    }
   ],
   "source": [
    "from sklearn.metrics import confusion_matrix\n",
    "\n",
    "# Compute confusion matrix for a model\n",
    "model = clf_A\n",
    "cm = confusion_matrix(y_test.values, model.predict(X_test))\n",
    "\n",
    "# view with a heatmap\n",
    "sns.heatmap(cm, annot=True, cmap='RdBu', xticklabels=['no', 'yes'], yticklabels=['no', 'yes'], linewidth=.5)\n",
    "plt.ylabel('True label')\n",
    "plt.xlabel('Predicted label')\n",
    "plt.title('Confusion matrix for:\\n{}'.format(\" Logistic Regression\"));"
   ]
  },
  {
   "cell_type": "markdown",
   "metadata": {},
   "source": [
    "### SVM"
   ]
  },
  {
   "cell_type": "code",
   "execution_count": 42,
   "metadata": {
    "collapsed": false
   },
   "outputs": [
    {
     "name": "stdout",
     "output_type": "stream",
     "text": [
      "Training a SVC using a training set size of 800. . .\n",
      "Trained model in 51.1920 seconds\n",
      "ROC score for training set: 0.9824.\n",
      "Made predictions in 48.3410 seconds.\n",
      "F1 score for training set: 0.9979.\n",
      "ROC score for training set: 0.5000.\n",
      "Made predictions in 30.3770 seconds.\n",
      "F1 score for test set: 0.9318.\n"
     ]
    }
   ],
   "source": [
    "train_predict(clf_B, X_train[:800], pd.Series(y_train[:800]), X_test, pd.Series(y_test))"
   ]
  },
  {
   "cell_type": "code",
   "execution_count": 32,
   "metadata": {
    "collapsed": false,
    "scrolled": true
   },
   "outputs": [
    {
     "data": {
      "image/png": "[encoded data removed]",
      "text/plain": [
       "<matplotlib.figure.Figure at 0xd3a30b8>"
      ]
     },
     "metadata": {},
     "output_type": "display_data"
    }
   ],
   "source": [
    "from sklearn.metrics import confusion_matrix\n",
    "\n",
    "# Compute confusion matrix for a model\n",
    "model = clf_B\n",
    "cm = confusion_matrix(y_test.values, model.predict(X_test))\n",
    "\n",
    "# view with a heatmap\n",
    "sns.heatmap(cm, annot=True, cmap='RdBu', xticklabels=['no', 'yes'], yticklabels=['no', 'yes'], linewidth=.5)\n",
    "plt.ylabel('True label')\n",
    "plt.xlabel('Predicted label')\n",
    "plt.title('Confusion matrix for:\\n{}'.format(\" Logistic Regression\"));"
   ]
  },
  {
   "cell_type": "markdown",
   "metadata": {},
   "source": [
    "### KNN"
   ]
  },
  {
   "cell_type": "code",
   "execution_count": 43,
   "metadata": {
    "collapsed": false
   },
   "outputs": [
    {
     "name": "stdout",
     "output_type": "stream",
     "text": [
      "Training a KNeighborsClassifier using a training set size of 800. . .\n",
      "Trained model in 2.4310 seconds\n",
      "ROC score for training set: 0.5000.\n",
      "Made predictions in 70.5370 seconds.\n",
      "F1 score for training set: 0.9439.\n",
      "ROC score for training set: 0.5000.\n",
      "Made predictions in 44.1830 seconds.\n",
      "F1 score for test set: 0.9318.\n"
     ]
    }
   ],
   "source": [
    "train_predict(clf_C, X_train[:800], y_train[:800], X_test, y_test)"
   ]
  },
  {
   "cell_type": "code",
   "execution_count": null,
   "metadata": {
    "collapsed": false
   },
   "outputs": [],
   "source": [
    "from sklearn.metrics import confusion_matrix\n",
    "\n",
    "# Compute confusion matrix for a model\n",
    "model = clf_C\n",
    "cm = confusion_matrix(y_test.values, model.predict(X_test))\n",
    "\n",
    "# view with a heatmap\n",
    "sns.heatmap(cm, annot=True, cmap='RdBu', xticklabels=['no', 'yes'], yticklabels=['no', 'yes'], linewidth=.5)\n",
    "plt.ylabel('True label')\n",
    "plt.xlabel('Predicted label')\n",
    "plt.title('Confusion matrix for:\\n{}'.format(\" Logistic Regression\"));"
   ]
  },
  {
   "cell_type": "markdown",
   "metadata": {},
   "source": [
    "### GRIDSEARCH"
   ]
  },
  {
   "cell_type": "code",
   "execution_count": 83,
   "metadata": {
    "collapsed": false,
    "scrolled": true
   },
   "outputs": [
    {
     "name": "stderr",
     "output_type": "stream",
     "text": [
      "D:\\Anaconda3\\lib\\site-packages\\sklearn\\externals\\joblib\\hashing.py:197: DeprecationWarning: Changing the shape of non-C contiguous array by\n",
      "descriptor assignment is deprecated. To maintain\n",
      "the Fortran contiguity of a multidimensional Fortran\n",
      "array, use 'a.T.view(...).T' instead\n",
      "  obj_bytes_view = obj.view(self.np.uint8)\n",
      "D:\\Anaconda3\\lib\\site-packages\\sklearn\\externals\\joblib\\hashing.py:197: DeprecationWarning: Changing the shape of non-C contiguous array by\n",
      "descriptor assignment is deprecated. To maintain\n",
      "the Fortran contiguity of a multidimensional Fortran\n",
      "array, use 'a.T.view(...).T' instead\n",
      "  obj_bytes_view = obj.view(self.np.uint8)\n",
      "D:\\Anaconda3\\lib\\site-packages\\sklearn\\externals\\joblib\\hashing.py:197: DeprecationWarning: Changing the shape of non-C contiguous array by\n",
      "descriptor assignment is deprecated. To maintain\n",
      "the Fortran contiguity of a multidimensional Fortran\n",
      "array, use 'a.T.view(...).T' instead\n",
      "  obj_bytes_view = obj.view(self.np.uint8)\n",
      "D:\\Anaconda3\\lib\\site-packages\\sklearn\\externals\\joblib\\hashing.py:197: DeprecationWarning: Changing the shape of non-C contiguous array by\n",
      "descriptor assignment is deprecated. To maintain\n",
      "the Fortran contiguity of a multidimensional Fortran\n",
      "array, use 'a.T.view(...).T' instead\n",
      "  obj_bytes_view = obj.view(self.np.uint8)\n",
      "D:\\Anaconda3\\lib\\site-packages\\sklearn\\externals\\joblib\\hashing.py:197: DeprecationWarning: Changing the shape of non-C contiguous array by\n",
      "descriptor assignment is deprecated. To maintain\n",
      "the Fortran contiguity of a multidimensional Fortran\n",
      "array, use 'a.T.view(...).T' instead\n",
      "  obj_bytes_view = obj.view(self.np.uint8)\n",
      "D:\\Anaconda3\\lib\\site-packages\\sklearn\\externals\\joblib\\hashing.py:197: DeprecationWarning: Changing the shape of non-C contiguous array by\n",
      "descriptor assignment is deprecated. To maintain\n",
      "the Fortran contiguity of a multidimensional Fortran\n",
      "array, use 'a.T.view(...).T' instead\n",
      "  obj_bytes_view = obj.view(self.np.uint8)\n",
      "D:\\Anaconda3\\lib\\site-packages\\sklearn\\externals\\joblib\\hashing.py:197: DeprecationWarning: Changing the shape of non-C contiguous array by\n",
      "descriptor assignment is deprecated. To maintain\n",
      "the Fortran contiguity of a multidimensional Fortran\n",
      "array, use 'a.T.view(...).T' instead\n",
      "  obj_bytes_view = obj.view(self.np.uint8)\n",
      "D:\\Anaconda3\\lib\\site-packages\\sklearn\\externals\\joblib\\hashing.py:197: DeprecationWarning: Changing the shape of non-C contiguous array by\n",
      "descriptor assignment is deprecated. To maintain\n",
      "the Fortran contiguity of a multidimensional Fortran\n",
      "array, use 'a.T.view(...).T' instead\n",
      "  obj_bytes_view = obj.view(self.np.uint8)\n",
      "D:\\Anaconda3\\lib\\site-packages\\sklearn\\externals\\joblib\\hashing.py:197: DeprecationWarning: Changing the shape of non-C contiguous array by\n",
      "descriptor assignment is deprecated. To maintain\n",
      "the Fortran contiguity of a multidimensional Fortran\n",
      "array, use 'a.T.view(...).T' instead\n",
      "  obj_bytes_view = obj.view(self.np.uint8)\n",
      "D:\\Anaconda3\\lib\\site-packages\\sklearn\\externals\\joblib\\hashing.py:197: DeprecationWarning: Changing the shape of non-C contiguous array by\n",
      "descriptor assignment is deprecated. To maintain\n",
      "the Fortran contiguity of a multidimensional Fortran\n",
      "array, use 'a.T.view(...).T' instead\n",
      "  obj_bytes_view = obj.view(self.np.uint8)\n",
      "D:\\Anaconda3\\lib\\site-packages\\sklearn\\externals\\joblib\\hashing.py:197: DeprecationWarning: Changing the shape of non-C contiguous array by\n",
      "descriptor assignment is deprecated. To maintain\n",
      "the Fortran contiguity of a multidimensional Fortran\n",
      "array, use 'a.T.view(...).T' instead\n",
      "  obj_bytes_view = obj.view(self.np.uint8)\n",
      "D:\\Anaconda3\\lib\\site-packages\\sklearn\\externals\\joblib\\hashing.py:197: DeprecationWarning: Changing the shape of non-C contiguous array by\n",
      "descriptor assignment is deprecated. To maintain\n",
      "the Fortran contiguity of a multidimensional Fortran\n",
      "array, use 'a.T.view(...).T' instead\n",
      "  obj_bytes_view = obj.view(self.np.uint8)\n",
      "D:\\Anaconda3\\lib\\site-packages\\sklearn\\externals\\joblib\\hashing.py:197: DeprecationWarning: Changing the shape of non-C contiguous array by\n",
      "descriptor assignment is deprecated. To maintain\n",
      "the Fortran contiguity of a multidimensional Fortran\n",
      "array, use 'a.T.view(...).T' instead\n",
      "  obj_bytes_view = obj.view(self.np.uint8)\n",
      "D:\\Anaconda3\\lib\\site-packages\\sklearn\\externals\\joblib\\hashing.py:197: DeprecationWarning: Changing the shape of non-C contiguous array by\n",
      "descriptor assignment is deprecated. To maintain\n",
      "the Fortran contiguity of a multidimensional Fortran\n",
      "array, use 'a.T.view(...).T' instead\n",
      "  obj_bytes_view = obj.view(self.np.uint8)\n",
      "D:\\Anaconda3\\lib\\site-packages\\sklearn\\externals\\joblib\\hashing.py:197: DeprecationWarning: Changing the shape of non-C contiguous array by\n",
      "descriptor assignment is deprecated. To maintain\n",
      "the Fortran contiguity of a multidimensional Fortran\n",
      "array, use 'a.T.view(...).T' instead\n",
      "  obj_bytes_view = obj.view(self.np.uint8)\n",
      "D:\\Anaconda3\\lib\\site-packages\\sklearn\\externals\\joblib\\hashing.py:197: DeprecationWarning: Changing the shape of non-C contiguous array by\n",
      "descriptor assignment is deprecated. To maintain\n",
      "the Fortran contiguity of a multidimensional Fortran\n",
      "array, use 'a.T.view(...).T' instead\n",
      "  obj_bytes_view = obj.view(self.np.uint8)\n"
     ]
    },
    {
     "name": "stdout",
     "output_type": "stream",
     "text": [
      "{'C': 10}\n",
      "0.55125\n"
     ]
    }
   ],
   "source": [
    "from sklearn import grid_search\n",
    "from sklearn.linear_model import LogisticRegression\n",
    "\n",
    "\n",
    "clf_A1=grid_search.GridSearchCV(cv=4,estimator=LogisticRegression(C=1.0,penalty='l2'),\n",
    "       param_grid={'C':[0.01,1,10,1000]},n_jobs=-1)\n",
    "clf_A1.fit(X_train,y_train)\n",
    "print (clf_A1.best_params_)\n",
    "print (clf_A1.best_score_)\n",
    "#train_predict(clf_A1, X_train, y_train, X_test, y_test)"
   ]
  },
  {
   "cell_type": "code",
   "execution_count": 84,
   "metadata": {
    "collapsed": false
   },
   "outputs": [
    {
     "name": "stdout",
     "output_type": "stream",
     "text": [
      "Training a GridSearchCV using a training set size of 800. . .\n"
     ]
    },
    {
     "name": "stderr",
     "output_type": "stream",
     "text": [
      "D:\\Anaconda3\\lib\\site-packages\\sklearn\\externals\\joblib\\hashing.py:197: DeprecationWarning: Changing the shape of non-C contiguous array by\n",
      "descriptor assignment is deprecated. To maintain\n",
      "the Fortran contiguity of a multidimensional Fortran\n",
      "array, use 'a.T.view(...).T' instead\n",
      "  obj_bytes_view = obj.view(self.np.uint8)\n",
      "D:\\Anaconda3\\lib\\site-packages\\sklearn\\externals\\joblib\\hashing.py:197: DeprecationWarning: Changing the shape of non-C contiguous array by\n",
      "descriptor assignment is deprecated. To maintain\n",
      "the Fortran contiguity of a multidimensional Fortran\n",
      "array, use 'a.T.view(...).T' instead\n",
      "  obj_bytes_view = obj.view(self.np.uint8)\n",
      "D:\\Anaconda3\\lib\\site-packages\\sklearn\\externals\\joblib\\hashing.py:197: DeprecationWarning: Changing the shape of non-C contiguous array by\n",
      "descriptor assignment is deprecated. To maintain\n",
      "the Fortran contiguity of a multidimensional Fortran\n",
      "array, use 'a.T.view(...).T' instead\n",
      "  obj_bytes_view = obj.view(self.np.uint8)\n",
      "D:\\Anaconda3\\lib\\site-packages\\sklearn\\externals\\joblib\\hashing.py:197: DeprecationWarning: Changing the shape of non-C contiguous array by\n",
      "descriptor assignment is deprecated. To maintain\n",
      "the Fortran contiguity of a multidimensional Fortran\n",
      "array, use 'a.T.view(...).T' instead\n",
      "  obj_bytes_view = obj.view(self.np.uint8)\n",
      "D:\\Anaconda3\\lib\\site-packages\\sklearn\\externals\\joblib\\hashing.py:197: DeprecationWarning: Changing the shape of non-C contiguous array by\n",
      "descriptor assignment is deprecated. To maintain\n",
      "the Fortran contiguity of a multidimensional Fortran\n",
      "array, use 'a.T.view(...).T' instead\n",
      "  obj_bytes_view = obj.view(self.np.uint8)\n",
      "D:\\Anaconda3\\lib\\site-packages\\sklearn\\externals\\joblib\\hashing.py:197: DeprecationWarning: Changing the shape of non-C contiguous array by\n",
      "descriptor assignment is deprecated. To maintain\n",
      "the Fortran contiguity of a multidimensional Fortran\n",
      "array, use 'a.T.view(...).T' instead\n",
      "  obj_bytes_view = obj.view(self.np.uint8)\n",
      "D:\\Anaconda3\\lib\\site-packages\\sklearn\\externals\\joblib\\hashing.py:197: DeprecationWarning: Changing the shape of non-C contiguous array by\n",
      "descriptor assignment is deprecated. To maintain\n",
      "the Fortran contiguity of a multidimensional Fortran\n",
      "array, use 'a.T.view(...).T' instead\n",
      "  obj_bytes_view = obj.view(self.np.uint8)\n",
      "D:\\Anaconda3\\lib\\site-packages\\sklearn\\externals\\joblib\\hashing.py:197: DeprecationWarning: Changing the shape of non-C contiguous array by\n",
      "descriptor assignment is deprecated. To maintain\n",
      "the Fortran contiguity of a multidimensional Fortran\n",
      "array, use 'a.T.view(...).T' instead\n",
      "  obj_bytes_view = obj.view(self.np.uint8)\n",
      "D:\\Anaconda3\\lib\\site-packages\\sklearn\\externals\\joblib\\hashing.py:197: DeprecationWarning: Changing the shape of non-C contiguous array by\n",
      "descriptor assignment is deprecated. To maintain\n",
      "the Fortran contiguity of a multidimensional Fortran\n",
      "array, use 'a.T.view(...).T' instead\n",
      "  obj_bytes_view = obj.view(self.np.uint8)\n",
      "D:\\Anaconda3\\lib\\site-packages\\sklearn\\externals\\joblib\\hashing.py:197: DeprecationWarning: Changing the shape of non-C contiguous array by\n",
      "descriptor assignment is deprecated. To maintain\n",
      "the Fortran contiguity of a multidimensional Fortran\n",
      "array, use 'a.T.view(...).T' instead\n",
      "  obj_bytes_view = obj.view(self.np.uint8)\n",
      "D:\\Anaconda3\\lib\\site-packages\\sklearn\\externals\\joblib\\hashing.py:197: DeprecationWarning: Changing the shape of non-C contiguous array by\n",
      "descriptor assignment is deprecated. To maintain\n",
      "the Fortran contiguity of a multidimensional Fortran\n",
      "array, use 'a.T.view(...).T' instead\n",
      "  obj_bytes_view = obj.view(self.np.uint8)\n",
      "D:\\Anaconda3\\lib\\site-packages\\sklearn\\externals\\joblib\\hashing.py:197: DeprecationWarning: Changing the shape of non-C contiguous array by\n",
      "descriptor assignment is deprecated. To maintain\n",
      "the Fortran contiguity of a multidimensional Fortran\n",
      "array, use 'a.T.view(...).T' instead\n",
      "  obj_bytes_view = obj.view(self.np.uint8)\n",
      "D:\\Anaconda3\\lib\\site-packages\\sklearn\\externals\\joblib\\hashing.py:197: DeprecationWarning: Changing the shape of non-C contiguous array by\n",
      "descriptor assignment is deprecated. To maintain\n",
      "the Fortran contiguity of a multidimensional Fortran\n",
      "array, use 'a.T.view(...).T' instead\n",
      "  obj_bytes_view = obj.view(self.np.uint8)\n",
      "D:\\Anaconda3\\lib\\site-packages\\sklearn\\externals\\joblib\\hashing.py:197: DeprecationWarning: Changing the shape of non-C contiguous array by\n",
      "descriptor assignment is deprecated. To maintain\n",
      "the Fortran contiguity of a multidimensional Fortran\n",
      "array, use 'a.T.view(...).T' instead\n",
      "  obj_bytes_view = obj.view(self.np.uint8)\n",
      "D:\\Anaconda3\\lib\\site-packages\\sklearn\\externals\\joblib\\hashing.py:197: DeprecationWarning: Changing the shape of non-C contiguous array by\n",
      "descriptor assignment is deprecated. To maintain\n",
      "the Fortran contiguity of a multidimensional Fortran\n",
      "array, use 'a.T.view(...).T' instead\n",
      "  obj_bytes_view = obj.view(self.np.uint8)\n",
      "D:\\Anaconda3\\lib\\site-packages\\sklearn\\externals\\joblib\\hashing.py:197: DeprecationWarning: Changing the shape of non-C contiguous array by\n",
      "descriptor assignment is deprecated. To maintain\n",
      "the Fortran contiguity of a multidimensional Fortran\n",
      "array, use 'a.T.view(...).T' instead\n",
      "  obj_bytes_view = obj.view(self.np.uint8)\n"
     ]
    },
    {
     "name": "stdout",
     "output_type": "stream",
     "text": [
      "Trained model in 585.2795 seconds\n",
      "ROC score for training set: 0.9824.\n",
      "Made predictions in 0.1280 seconds.\n",
      "F1 score for training set: 0.9979.\n",
      "ROC score for training set: 0.4646.\n",
      "Made predictions in 0.0680 seconds.\n",
      "F1 score for test set: 0.6850.\n"
     ]
    }
   ],
   "source": [
    "train_predict(clf_A1, X_train, y_train, X_test, y_test)"
   ]
  },
  {
   "cell_type": "code",
   "execution_count": null,
   "metadata": {
    "collapsed": true
   },
   "outputs": [],
   "source": []
  },
  {
   "cell_type": "code",
   "execution_count": null,
   "metadata": {
    "collapsed": false
   },
   "outputs": [],
   "source": [
    "from sklearn.svm import SVC\n",
    "\n",
    "from sklearn.grid_search import GridSearchCV\n",
    "\n",
    "clf_B1=SVC()\n",
    "param_grids = {\"kernel\":['rbf'],\n",
    "               'gamma': [ 1e-4, 1e-5, 1e-6],\n",
    "               'C': [1, 400, 500, 600, 700],\n",
    "               }\n",
    "\n",
    "clf_B1 = GridSearchCV(SVC(), param_grid= param_grids, cv=10,n_jobs= -1)\n",
    "clf_B1.fit(X_train,y_train)\n",
    "train_predict(clf_B1,X_train_400 ,y_train_400, X_test, y_test)"
   ]
  },
  {
   "cell_type": "code",
   "execution_count": null,
   "metadata": {
    "collapsed": true
   },
   "outputs": [],
   "source": []
  }
 ],
 "metadata": {
  "kernelspec": {
   "display_name": "Python 3",
   "language": "python",
   "name": "python3"
  },
  "language_info": {
   "codemirror_mode": {
    "name": "ipython",
    "version": 3
   },
   "file_extension": ".py",
   "mimetype": "text/x-python",
   "name": "python",
   "nbconvert_exporter": "python",
   "pygments_lexer": "ipython3",
   "version": "3.5.1"
  }
 },
 "nbformat": 4,
 "nbformat_minor": 0
}
