{
 "cells": [
  {
   "cell_type": "code",
   "execution_count": 1,
   "metadata": {
    "collapsed": false
   },
   "outputs": [
    {
     "name": "stdout",
     "output_type": "stream",
     "text": [
      "Once deleted, variables cannot be recovered. Proceed (y/[n])? y\n"
     ]
    }
   ],
   "source": [
    "% reset\n",
    "\n",
    "import numpy as np\n",
    "import scipy \n",
    "from scipy.io import loadmat #be used to get data from .mat document \n",
    "from scipy import signal #scipy: scientific python, be used to scientific computation and signal is used to procsess signal \n",
    "\n",
    "import pywt #python wavelate transformation \n",
    "from os import walk #walk: be used to read file name\n",
    "\n",
    "import sklearn\n",
    "from sklearn.decomposition import FastICA\n"
   ]
  },
  {
   "cell_type": "code",
   "execution_count": 2,
   "metadata": {
    "collapsed": false
   },
   "outputs": [],
   "source": [
    "import matplotlib #be used to plot \n",
    "matplotlib.use('Agg')\n",
    "import matplotlib.pyplot as plt \n",
    "\n",
    "def plt_allch(sig,c):\n",
    "    num_ch = sig.shape[1]\n",
    "    fig = plt.figure(figsize=(30,30))\n",
    "    for i in range(num_ch):\n",
    "        plt.subplot(num_ch, 1, i+1)\n",
    "        plt.plot(range(sig.shape[0]),sig[:,i],c)\n",
    "    return fig"
   ]
  },
  {
   "cell_type": "code",
   "execution_count": 3,
   "metadata": {
    "collapsed": false,
    "scrolled": true
   },
   "outputs": [],
   "source": [
    "'''read feature data'''\n",
    "def read_fea_train(person,data_safe):\n",
    "    feapath = ['/home/hope-yao/Documents/kaggle/projects/featurefiles/train_',str(person)]\n",
    "    destpath = ''.join(feapath)\n",
    "    f = []\n",
    "    for (dirpath, dirnames, filenames) in walk(destpath):\n",
    "        for fn in filenames:\n",
    "            if fn[-3:]=='npy':\n",
    "                f.extend([fn])\n",
    "        break\n",
    "    file_path = []\n",
    "    for x in f:\n",
    "        file_path.extend([dirpath+'/'+x])\n",
    "\n",
    "    ttnf = len(file_path)\n",
    "    print('total number of training feature files found:',ttnf)\n",
    "\n",
    "    n = ttnf #ttnf\n",
    "    fea_sig = []\n",
    "    fea_label = []\n",
    "    for i,fp in enumerate(file_path[0:n]):\n",
    "        idx_tmp = int(fp[fp.rfind('/')+3:len(fp)-6])\n",
    "        if fp[-5]:\n",
    "            if person ==1:\n",
    "                flg_safe = data_safe[1152 + idx_tmp]\n",
    "            elif person ==2:\n",
    "                flg_safe = data_safe[3498 + idx_tmp]\n",
    "            elif person ==3:\n",
    "                flg_safe = data_safe[5892 + idx_tmp]\n",
    "            else:\n",
    "                print('error')\n",
    "                break\n",
    "        else:\n",
    "            flg_safe = data_safe[idx_tmp * 6]\n",
    "\n",
    "        # skip contaminated data\n",
    "        if flg_safe==0:\n",
    "            continue\n",
    "\n",
    "        fea_data = np.load(fp)\n",
    "        tmp = fea_data # inside structure\n",
    "        if  tmp.shape==(6,16):  # check signal size\n",
    "            if (np.count_nonzero(tmp)):\n",
    "                if 0:\n",
    "                    tmp_onehour = []\n",
    "                    for i in range(tmp.shape[0]):\n",
    "                        tmp_onehour = tmp_onehour + tmp[i,:].tolist()\n",
    "                    fea_sig.append(tmp_onehour) #nf ,raw_data_length,num_ch\n",
    "                    fea_label.append(int(fp[-5]))\n",
    "                else:\n",
    "                    for i in range(tmp.shape[0]):\n",
    "                        fea_sig.append(tmp[i,:]) #nf ,raw_data_length,num_ch\n",
    "                        fea_label.append(int(fp[-5]))               \n",
    "        else:\n",
    "#             print('file with missing clip found!',fp)\n",
    "            continue\n",
    "    fea_sig = np.asarray(fea_sig)\n",
    "#     print(fea_sig.shape)\n",
    "#     print(len(fea_label))\n",
    "    return fea_sig,fea_label\n",
    "\n",
    "def read_fea_test(person):\n",
    "    feapath = ['/home/hope-yao/Documents/kaggle/projects/featurefiles/test_',str(person),'_new']\n",
    "    destpath = ''.join(feapath)\n",
    "    f = []\n",
    "    for (dirpath, dirnames, filenames) in walk(destpath):\n",
    "        for fn in filenames:\n",
    "            if fn[-3:]=='npy':\n",
    "                f.extend([fn])\n",
    "        break\n",
    "    file_path = []\n",
    "    for x in f:\n",
    "        file_path.extend([dirpath+'/'+x])\n",
    "\n",
    "    ttnf = len(file_path)\n",
    "    print('total number of testing feature files found:',ttnf)\n",
    "\n",
    "    n = ttnf #ttnf\n",
    "    fea_sig = []\n",
    "    for i,fp in enumerate(file_path[0:n]):\n",
    "        fea_data = np.load(fp)\n",
    "        tmp = fea_data # inside structure\n",
    "        if  tmp.shape==(6,16):  # check signal size\n",
    "            if (np.count_nonzero(tmp)):\n",
    "                if 0:\n",
    "                    tmp_onehour = []\n",
    "                    for i in range(tmp.shape[0]):\n",
    "                        tmp_onehour = tmp_onehour + tmp[i,:].tolist()\n",
    "                    fea_sig.append(tmp_onehour) #nf ,raw_data_length,num_ch\n",
    "                else:\n",
    "                    for i in range(tmp.shape[0]):\n",
    "                        fea_sig.append(tmp[i,:]) #nf ,raw_data_length,num_ch\n",
    "        else:\n",
    "#             print('file with missing clip found!',fp)\n",
    "            continue\n",
    "    fea_sig = np.asarray(fea_sig)\n",
    "#     print(fea_sig.shape)\n",
    "    return fea_sig\n"
   ]
  },
  {
   "cell_type": "code",
   "execution_count": 4,
   "metadata": {
    "collapsed": false
   },
   "outputs": [],
   "source": [
    "'''T-SNE Visualization in feature space'''\n",
    "def vis_tsne(fea_sig,fea_label):\n",
    "    from sklearn.manifold import TSNE\n",
    "    model = TSNE(n_components=2, random_state=0)\n",
    "    np.set_printoptions(suppress=True)\n",
    "    T = model.fit_transform(fea_sig) \n",
    "\n",
    "    # from mpl_toolkits.mplot3d import Axes3D\n",
    "    # %pylab qt\n",
    "    %matplotlib inline\n",
    "\n",
    "    fig = plt.figure()\n",
    "    # ax = plt.axes(projection='3d')\n",
    "    for i,k in enumerate(fea_label):\n",
    "        if k==0:\n",
    "            plt.plot(T[i,0],T[i,1],'b.')\n",
    "    #         ax.scatter(T[i,0],T[i,1],T[i,2],c='b')\n",
    "        else:\n",
    "            plt.plot(T[i,0],T[i,1],'ro')\n",
    "    #         ax.scatter(T[i,0],T[i,1],T[i,2],c='r')\n",
    "    \n",
    "        "
   ]
  },
  {
   "cell_type": "code",
   "execution_count": 5,
   "metadata": {
    "collapsed": false,
    "scrolled": true
   },
   "outputs": [],
   "source": [
    "'''plot eigenvalue of correlation matrix'''\n",
    "def vis_feature(fea_sig,fea_label):\n",
    "    for i,k in enumerate(fea_label):\n",
    "        sig = fea_sig[i,:]\n",
    "        if k==0:\n",
    "            ax1 = plt.subplot(2,1,1)\n",
    "            ax1.plot(range(4),sig[len(sig)-4:len(sig)+1],'b')\n",
    "        else:\n",
    "            ax2 = plt.subplot(2,1,2)\n",
    "            ax2.plot(range(4),sig[len(sig)-4:len(sig)+1],'r')\n",
    "    ax1.set_ylim([0,16])\n",
    "    ax2.set_ylim([0,16])\n",
    "    plt.show()\n"
   ]
  },
  {
   "cell_type": "code",
   "execution_count": 6,
   "metadata": {
    "collapsed": false
   },
   "outputs": [],
   "source": [
    "'''visualization in time domain''' \n",
    "def vis_time(label,raw_sig):\n",
    "    for i,l in enumerate(label[0:5]):\n",
    "        sig = raw_sig[i,:,:]\n",
    "        if l==1:\n",
    "            fig = plt_allch(sig,'r')\n",
    "            s = ['./vis/seizure/',str(i),'.png']\n",
    "            ss = ''.join(s)\n",
    "            fig.savefig(ss)  \n",
    "        else:\n",
    "            fig = plt_allch(sig,'b')\n",
    "            s = ['./vis/non-seizure/',str(i),'.png']\n",
    "            ss = ''.join(s)\n",
    "            fig.savefig(ss)  \n",
    "\n",
    "# cnt = 0\n",
    "# for i,p in enumerate(sig):\n",
    "#     if not np.count_nonzero(p):\n",
    "#         sig[j,:,i] =  (sig[j-1,:,i] + sig[j+1,:,i]) / 2\n",
    "# #             print(j,i)\n",
    "#         cnt = cnt + 1\n",
    "# print(cnt)\n",
    "\n",
    "# cnt = 0\n",
    "# for zero_value in raw_sig:\n",
    "#     for i in range(len(raw_sig[0,0,:])):\n",
    "#         if zero_value[:,i].all == (np.asarray([0,0,0,0,0,0,0,0,0,0,0,0,0,0,0,0])).all:\n",
    "#             zero_value[:,i] =  (zero_value[:,i+1] + zero_value[:,i-1]) / 2\n",
    "#             cnt = cnt + 1\n",
    "# print(cnt)"
   ]
  },
  {
   "cell_type": "code",
   "execution_count": 7,
   "metadata": {
    "collapsed": true
   },
   "outputs": [],
   "source": [
    "'''train_and_test_data_labels_safe'''\n",
    "def check_safety():\n",
    "    import csv\n",
    "    data_name = []\n",
    "    data_safe = []\n",
    "    data_class = []\n",
    "    with open('./datafiles/train_and_test_data_labels_safe.csv', 'rb') as csvfile:\n",
    "        csvreader = csv.reader(csvfile, delimiter=' ', quotechar='|')\n",
    "        for row in csvreader:\n",
    "            data_class = data_class + [int(row[0][-3])]\n",
    "            data_safe = data_safe + [int(row[0][-1])]\n",
    "            data_name = data_name + [row[0][0:-8]]\n",
    "    return data_class,data_safe,data_name"
   ]
  },
  {
   "cell_type": "code",
   "execution_count": 8,
   "metadata": {
    "collapsed": true
   },
   "outputs": [],
   "source": [
    "'''data balance and training/testing split'''\n",
    "def over_sample(fea_sig, fea_label, split):\n",
    "    from imblearn.over_sampling import SMOTE\n",
    "    from random import sample\n",
    "\n",
    "    # Apply regular SMOTE\n",
    "    sm = SMOTE(kind='regular')\n",
    "    data_balance, label_balance = sm.fit_sample(fea_sig, fea_label)\n",
    "    l = len(data_balance) #length of data\n",
    "    f = int(split*l)  # split for testing\n",
    "    indices = sample(range(l),f)\n",
    "\n",
    "    data_test = data_balance[indices]\n",
    "    label_test = label_balance[indices]\n",
    "\n",
    "    data_train = np.delete(data_balance,indices,0)\n",
    "    label_train = np.delete(label_balance,indices,0)\n",
    "    \n",
    "    return data_train,label_train,data_test,label_test"
   ]
  },
  {
   "cell_type": "code",
   "execution_count": 9,
   "metadata": {
    "collapsed": false
   },
   "outputs": [],
   "source": [
    "'''Random Forest'''\n",
    "def train_rf(data_train,label_train):\n",
    "    #from sklearn.model_selection import GridSearchCV\n",
    "    from sklearn.grid_search import RandomizedSearchCV\n",
    "    from sklearn.datasets import load_digits\n",
    "    from sklearn.ensemble import RandomForestClassifier\n",
    "    from time import time\n",
    "    from scipy.stats import randint as sp_randint\n",
    "\n",
    "    param_dist = {\"max_depth\": [3, None],\n",
    "                  \"max_features\": sp_randint(1, 11),\n",
    "                  \"min_samples_split\": sp_randint(1, 11),\n",
    "                  \"min_samples_leaf\": sp_randint(1, 11),\n",
    "                  \"bootstrap\": [True, False],\n",
    "                  \"criterion\": [\"gini\", \"entropy\"]}\n",
    "\n",
    "    # run randomized search\n",
    "    clf = RandomForestClassifier(n_estimators=200,n_jobs=-1)\n",
    "\n",
    "    n_iter_search = 20\n",
    "    random_search = RandomizedSearchCV(clf, param_distributions=param_dist,\n",
    "                                       n_iter=n_iter_search)\n",
    "\n",
    "    start = time()\n",
    "\n",
    "\n",
    "    random_search.fit(data_train, label_train)\n",
    "    print(\"RandomizedSearchCV took %.2f seconds for %d candidates\"\n",
    "          \" parameter settings.\" % ((time() - start), n_iter_search))\n",
    "    #report(random_search.cv_results_)\n",
    "    return random_search"
   ]
  },
  {
   "cell_type": "code",
   "execution_count": 10,
   "metadata": {
    "collapsed": false
   },
   "outputs": [],
   "source": [
    "def draw_roc(random_search,data_test,label_test):\n",
    "    from sklearn.metrics import roc_auc_score\n",
    "    from sklearn.metrics import roc_curve, auc\n",
    "\n",
    "    y_pred = random_search.predict(data_test)\n",
    "    RFprobaR=random_search.predict_proba(data_test)\n",
    "    roc_score = roc_auc_score(np.array(label_test), np.array(RFprobaR[:,1]))\n",
    "    print (\"ROC score    : {:.4f}.\".format(roc_score))\n",
    "\n",
    "    fpr, tpr, _ = roc_curve(label_test, RFprobaR[:,1])\n",
    "    roc_auc = auc(fpr, tpr)\n",
    "    plt.figure()\n",
    "    lw = 2\n",
    "    plt.plot(fpr, tpr, color='darkorange',\n",
    "             lw=lw, label='ROC curve (area = %0.2f)' % roc_auc)\n",
    "    plt.plot([0, 1], [0, 1], color='navy', lw=lw, linestyle='--')\n",
    "    plt.xlim([0.0, 1.0])\n",
    "    plt.ylim([0.0, 1.05])\n",
    "    plt.xlabel('False Positive Rate')\n",
    "    plt.ylabel('True Positive Rate')\n",
    "    plt.title('Receiver operating curve- Random Forest')\n",
    "    plt.legend(loc=\"lower right\")\n",
    "    plt.show(True)\n",
    "    \n",
    "    return roc_score, y_pred, RFprobaR"
   ]
  },
  {
   "cell_type": "code",
   "execution_count": 11,
   "metadata": {
    "collapsed": false
   },
   "outputs": [],
   "source": [
    "def plt_cfm(y_pred,label_test):\n",
    "    from sklearn.metrics import confusion_matrix\n",
    "    import seaborn as sns\n",
    "\n",
    "    # Compute confusion matrix for a model\n",
    "    cm=confusion_matrix(y_pred,label_test)\n",
    "\n",
    "    # view with a heatmap\n",
    "    sns.heatmap(cm, annot=True, cmap='RdBu', xticklabels=['no', 'yes'], yticklabels=['no', 'yes'], linewidth=.5)\n",
    "    plt.ylabel('True label')\n",
    "    plt.xlabel('Predicted label')\n",
    "    plt.title('Confusion matrix for:\\n{}'.format(\" Random Forest \"))\n",
    "    return plt"
   ]
  },
  {
   "cell_type": "code",
   "execution_count": 14,
   "metadata": {
    "collapsed": false,
    "scrolled": false
   },
   "outputs": [
    {
     "name": "stdout",
     "output_type": "stream",
     "text": [
      "('total number of training feature files found:', 217)\n",
      "RandomizedSearchCV took 53.44 seconds for 20 candidates parameter settings.\n",
      "ROC score    : 0.9429.\n",
      "('total number of testing feature files found:', 36)\n",
      "****************************************patient index 1 prediction done!\n",
      "('total number of training feature files found:', 391)\n",
      "RandomizedSearchCV took 56.33 seconds for 20 candidates parameter settings.\n",
      "ROC score    : 0.9783.\n",
      "('total number of testing feature files found:', 167)\n",
      "****************************************patient index 2 prediction done!\n",
      "('total number of training feature files found:', 399)\n",
      "RandomizedSearchCV took 53.71 seconds for 20 candidates parameter settings.\n",
      "ROC score    : 0.9826.\n",
      "('total number of testing feature files found:', 115)\n",
      "****************************************patient index 3 prediction done!\n"
     ]
    }
   ],
   "source": [
    "all_results = []\n",
    "for person in range(1,4):\n",
    "    # check if data has been contaminated\n",
    "    data_class,data_safe,data_name = check_safety()\n",
    "    # read feature training data\n",
    "    fea_sig,fea_label = read_fea_train(person,data_safe)\n",
    "    # balance data and split it \n",
    "    split = 0.2\n",
    "    data_train,label_train,data_test,label_test = over_sample(fea_sig, fea_label, split)\n",
    "    # train random forest\n",
    "    random_search = train_rf(data_train,label_train)\n",
    "    # predict testing data and plot roc curve\n",
    "    roc_score,y_pred,RFprobaR = draw_roc(random_search,data_test,label_test)\n",
    "    # plot confusion matrix\n",
    "    plt_cfm(y_pred,label_test)\n",
    "\n",
    "    # read feature testing data to do prediction\n",
    "    fea_sig = read_fea_test(person)\n",
    "    RFprobaR=random_search.predict_proba(fea_sig)\n",
    "    all_results = all_results + [RFprobaR[:,1]]\n",
    "    print('****************************************patient index {:d} prediction done!'.format(person))\n"
   ]
  },
  {
   "cell_type": "code",
   "execution_count": 15,
   "metadata": {
    "collapsed": false
   },
   "outputs": [],
   "source": [
    "import pandas as pd\n",
    "y=pd.DataFrame(np.concatenate((all_results[0], all_results[1], all_results[2]), axis=0))\n",
    "y.to_csv(\"result.csv\")"
   ]
  },
  {
   "cell_type": "markdown",
   "metadata": {},
   "source": [
    "# To Do: testing data with safe=1 label"
   ]
  },
  {
   "cell_type": "code",
   "execution_count": 34,
   "metadata": {
    "collapsed": false
   },
   "outputs": [
    {
     "name": "stdout",
     "output_type": "stream",
     "text": [
      "ROC score    : 0.9930.\n"
     ]
    },
    {
     "data": {
      "image/png": "[encoded data removed]",
      "text/plain": [
       "<matplotlib.figure.Figure at 0x7ff680495bd0>"
      ]
     },
     "metadata": {},
     "output_type": "display_data"
    }
   ],
   "source": [
    "from sklearn.metrics import roc_auc_score\n",
    "from sklearn.metrics import roc_curve, auc\n",
    "%matplotlib inline\n",
    "y_pred = random_search.predict(data_test)\n",
    "RFprobaR=random_search.predict_proba(data_test)\n",
    "roc_score = roc_auc_score(np.array(label_test), np.array(RFprobaR[:,1]))\n",
    "print (\"ROC score    : {:.4f}.\".format(roc_score))\n",
    "\n",
    "fpr, tpr, _ = roc_curve(label_test, RFprobaR[:,1])\n",
    "roc_auc = auc(fpr, tpr)\n",
    "plt.figure()\n",
    "lw = 2\n",
    "plt.plot(fpr, tpr, color='darkorange',\n",
    "         lw=lw, label='ROC curve (area = %0.2f)' % roc_auc)\n",
    "plt.plot([0, 1], [0, 1], color='navy', lw=lw, linestyle='--')\n",
    "plt.xlim([0.0, 1.0])\n",
    "plt.ylim([0.0, 1.05])\n",
    "plt.xlabel('False Positive Rate')\n",
    "plt.ylabel('True Positive Rate')\n",
    "plt.title('Receiver operating curve- Random Forest')\n",
    "plt.legend(loc=\"lower right\")\n",
    "plt.show()"
   ]
  },
  {
   "cell_type": "code",
   "execution_count": 32,
   "metadata": {
    "collapsed": false
   },
   "outputs": [
    {
     "name": "stdout",
     "output_type": "stream",
     "text": [
      "('total number of training feature files found:', 399)\n"
     ]
    },
    {
     "data": {
      "text/plain": [
       "((895, 16), (3581, 16), 895, 4476, 895)"
      ]
     },
     "execution_count": 32,
     "metadata": {},
     "output_type": "execute_result"
    }
   ],
   "source": [
    "fea_sig,fea_label = read_fea_train(person,data_safe)\n",
    "split = 0.2\n",
    "\n",
    "from imblearn.over_sampling import SMOTE\n",
    "from random import sample\n",
    "\n",
    "# Apply regular SMOTE\n",
    "sm = SMOTE(kind='regular')\n",
    "data_balance, label_balance = sm.fit_sample(fea_sig, fea_label)\n",
    "l = len(data_balance) #length of data\n",
    "f = int(split*l)  # split for testing\n",
    "indices = sample(range(l),f)\n",
    "\n",
    "data_test = data_balance[indices]\n",
    "label_test = label_balance[indices]\n",
    "\n",
    "data_train = np.delete(data_balance,indices,0)\n",
    "label_train = np.delete(label_balance,indices,0)\n",
    "\n",
    "data_test.shape, data_train.shape, len(indices), l, f"
   ]
  }
 ],
 "metadata": {
  "kernelspec": {
   "display_name": "Python [Root]",
   "language": "python",
   "name": "Python [Root]"
  },
  "language_info": {
   "codemirror_mode": {
    "name": "ipython",
    "version": 2
   },
   "file_extension": ".py",
   "mimetype": "text/x-python",
   "name": "python",
   "nbconvert_exporter": "python",
   "pygments_lexer": "ipython2",
   "version": "2.7.12"
  }
 },
 "nbformat": 4,
 "nbformat_minor": 0
}
