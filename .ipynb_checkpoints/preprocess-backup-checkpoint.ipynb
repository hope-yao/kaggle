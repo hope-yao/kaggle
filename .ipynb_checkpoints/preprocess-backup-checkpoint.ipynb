{
 "cells": [
  {
   "cell_type": "code",
   "execution_count": 3,
   "metadata": {
    "collapsed": false
   },
   "outputs": [
    {
     "name": "stdout",
     "output_type": "stream",
     "text": [
      "Once deleted, variables cannot be recovered. Proceed (y/[n])? y\n"
     ]
    }
   ],
   "source": [
    "% reset\n",
    "\n",
    "import numpy as np\n",
    "import scipy \n",
    "from scipy.io import loadmat #be used to get data from .mat document \n",
    "from scipy import signal #scipy: scientific python, be used to scientific computation and signal is used to procsess signal \n",
    "\n",
    "import pywt #python wavelate transformation \n",
    "from os import walk #walk: be used to read file name\n",
    "\n",
    "import sklearn\n",
    "from sklearn.decomposition import FastICA\n"
   ]
  },
  {
   "cell_type": "code",
   "execution_count": 78,
   "metadata": {
    "collapsed": false
   },
   "outputs": [],
   "source": [
    "import matplotlib #be used to plot \n",
    "matplotlib.use('Agg')\n",
    "import matplotlib.pyplot as plt \n",
    "\n",
    "def plt_allch(sig,c):\n",
    "    num_ch = sig.shape[1]\n",
    "    fig = plt.figure(figsize=(30,30))\n",
    "    for i in range(num_ch):\n",
    "        plt.subplot(num_ch, 1, i+1)\n",
    "        plt.plot(range(sig.shape[0]),sig[:,i],c)\n",
    "    return fig"
   ]
  },
  {
   "cell_type": "code",
   "execution_count": 79,
   "metadata": {
    "collapsed": false
   },
   "outputs": [
    {
     "name": "stdout",
     "output_type": "stream",
     "text": [
      "(16, 240000)\n"
     ]
    }
   ],
   "source": [
    "num_ch = 0 #number of channels\n",
    "raw_data_length = 0 #\n",
    "\n",
    "def set_globvar_to_one():\n",
    "    global num_ch    # Needed to modify global copy of globvar\n",
    "    num_ch = 16\n",
    "    global raw_data_length    # Needed to modify global copy of globvar\n",
    "    raw_data_length = 400*60*10\n",
    "\n",
    "def print_globvar():\n",
    "    print(num_ch,raw_data_length)     # No need for global declaration to read value of globvar\n",
    "\n",
    "set_globvar_to_one()\n",
    "print_globvar()       # Prints 1"
   ]
  },
  {
   "cell_type": "code",
   "execution_count": 80,
   "metadata": {
    "collapsed": false
   },
   "outputs": [],
   "source": [
    "'''read filenames of raw data'''\n",
    "def read_fn(mypath):\n",
    "    f = []\n",
    "    cnt_szf = 0\n",
    "    # print(walk(mypath))\n",
    "    for (dirpath, dirnames, filenames) in walk(mypath):\n",
    "        print(len(filenames))\n",
    "        for fn in filenames:\n",
    "            if fn[-3:]=='mat':\n",
    "                f.extend([fn])\n",
    "            if fn[-5]=='1': # seizure label\n",
    "                cnt_szf = cnt_szf + 1\n",
    "        break\n",
    "    file_path = []\n",
    "    for x in f:\n",
    "        file_path.extend([dirpath+'/'+x])\n",
    "\n",
    "    ttnf = len(file_path)\n",
    "    print('read_fn: total number of interictal files:',ttnf - cnt_szf)\n",
    "    print('read_fn: total number of preictal files:',cnt_szf)\n",
    "    return ttnf,cnt_szf,file_path"
   ]
  },
  {
   "cell_type": "code",
   "execution_count": 81,
   "metadata": {
    "collapsed": false
   },
   "outputs": [],
   "source": [
    "'''eigenvalue of correlation matrix in frequency domain'''\n",
    "\n",
    "def eig_cor_fft(rawdata_tenmin,window):\n",
    "    def fft(time_data):\n",
    "        return (np.absolute(np.fft.rfft(time_data)[window]))\n",
    "    tr = []\n",
    "    for i in range(16):\n",
    "        tr.append(fft(rawdata_tenmin[:,i]))\n",
    "        sklearn.preprocessing.scale(tr)\n",
    "    tn = np.asarray(tr)\n",
    "#     print(tn.shape)\n",
    "    corr_matrix = np.corrcoef(tn)\n",
    "    try:\n",
    "        eigenvalues = np.absolute(np.linalg.eig(corr_matrix)[0])\n",
    "    except:\n",
    "        print(corr_matrix)\n",
    "    eigenvalues.sort()\n",
    "    return eigenvalues\n",
    "# print(eigenvalues.shape)\n"
   ]
  },
  {
   "cell_type": "code",
   "execution_count": 82,
   "metadata": {
    "collapsed": false
   },
   "outputs": [],
   "source": [
    "'''computing features'''\n",
    "def compute_feature(person,case,n_hours,sourcepath,destpath,ICA,window):\n",
    "    for hour_idx in range(n_hours):\n",
    "        feadata_tenmin = []\n",
    "        for time_clip in range(6):\n",
    "            time_idx = time_clip + hour_idx*6 + 1\n",
    "            tmp = [sourcepath,'/',str(person),'_',str(time_idx),'_',str(case),'.mat']\n",
    "    #         print(tmp)\n",
    "            seizure_fn = ''.join(tmp)\n",
    "            try:\n",
    "                tmpdata = loadmat(seizure_fn)['dataStruct']\n",
    "            except:\n",
    "                print(seizure_fn,'broken!!!')\n",
    "                continue\n",
    "            raw_data = tmpdata[0][0][0] # inside structure\n",
    "            if (np.count_nonzero(raw_data)):\n",
    "                if ICA:\n",
    "                    try:\n",
    "                        ica = FastICA()\n",
    "                        raw_data = ica.fit_transform(raw_data)  # Reconstruct signals\n",
    "                    except:\n",
    "                        print(seizure_fn,'ica failed!!!!')\n",
    "                        continue\n",
    "                eigs = eig_cor_fft(raw_data,window)\n",
    "            else:\n",
    "                eigs = np.zeros(np.asarray(window).shape)\n",
    "                print('all zero file found!')        \n",
    "            feadata_tenmin.append(eigs)                 \n",
    "        fname = [destpath,'/',str(person),'_',str(hour_idx),'_',str(case)] #person_idx, hour_idx, non-seizure\n",
    "        feaname = ''.join(fname)\n",
    "        feadata = np.asarray(feadata_tenmin)\n",
    "        print(feaname)\n",
    "        np.save(feaname,feadata)\n"
   ]
  },
  {
   "cell_type": "code",
   "execution_count": 83,
   "metadata": {
    "collapsed": false
   },
   "outputs": [
    {
     "name": "stdout",
     "output_type": "stream",
     "text": [
      "(6325, 6325, 6325)\n"
     ]
    }
   ],
   "source": [
    "'''train_and_test_data_labels_safe'''\n",
    "import csv\n",
    "data_name = []\n",
    "data_safe = []\n",
    "data_class = []\n",
    "with open('./datafiles/train_and_test_data_labels_safe.csv', 'rb') as csvfile:\n",
    "    csvreader = csv.reader(csvfile, delimiter=' ', quotechar='|')\n",
    "    for row in csvreader:\n",
    "        data_class = data_class + [int(row[0][-3])]\n",
    "        data_safe = data_safe + [int(row[0][-1])]\n",
    "        data_name = data_name + [row[0][0:-8]]\n",
    "print(len(data_class),len(data_safe),len(data_name))"
   ]
  },
  {
   "cell_type": "code",
   "execution_count": 84,
   "metadata": {
    "collapsed": false,
    "scrolled": true
   },
   "outputs": [
    {
     "name": "stdout",
     "output_type": "stream",
     "text": [
      "1302\n",
      "('read_fn: total number of interictal files:', 1152)\n",
      "('read_fn: total number of preictal files:', 150)\n",
      "('sourcepath: ', '/home/hope-yao/Documents/kaggle/projects/datafiles/train_1')\n",
      "('destpath: ', '/home/hope-yao/Documents/kaggle/projects/featurefiles/train_1')\n",
      "/home/hope-yao/Documents/kaggle/projects/featurefiles/train_1/1_0_0\n",
      "/home/hope-yao/Documents/kaggle/projects/featurefiles/train_1/1_1_0\n"
     ]
    },
    {
     "ename": "KeyboardInterrupt",
     "evalue": "",
     "output_type": "error",
     "traceback": [
      "\u001b[1;31m---------------------------------------------------------------------------\u001b[0m",
      "\u001b[1;31mKeyboardInterrupt\u001b[0m                         Traceback (most recent call last)",
      "\u001b[1;32m<ipython-input-84-efa3c1a58e70>\u001b[0m in \u001b[0;36m<module>\u001b[1;34m()\u001b[0m\n\u001b[0;32m     19\u001b[0m     \u001b[1;32melse\u001b[0m\u001b[1;33m:\u001b[0m\u001b[1;33m\u001b[0m\u001b[0m\n\u001b[0;32m     20\u001b[0m         \u001b[0mn_hours\u001b[0m \u001b[1;33m=\u001b[0m \u001b[0mint\u001b[0m\u001b[1;33m(\u001b[0m\u001b[0mnp\u001b[0m\u001b[1;33m.\u001b[0m\u001b[0mceil\u001b[0m\u001b[1;33m(\u001b[0m\u001b[0mcnt_szf\u001b[0m\u001b[1;33m/\u001b[0m\u001b[1;36m6.0\u001b[0m\u001b[1;33m)\u001b[0m\u001b[1;33m)\u001b[0m \u001b[1;31m#in case of missing file, like 1_45_1\u001b[0m\u001b[1;33m\u001b[0m\u001b[0m\n\u001b[1;32m---> 21\u001b[1;33m     \u001b[0mcompute_feature\u001b[0m\u001b[1;33m(\u001b[0m\u001b[0mperson\u001b[0m\u001b[1;33m,\u001b[0m\u001b[0mcase\u001b[0m\u001b[1;33m,\u001b[0m\u001b[0mn_hours\u001b[0m\u001b[1;33m,\u001b[0m\u001b[0msourcepath\u001b[0m\u001b[1;33m,\u001b[0m\u001b[0mdestpath\u001b[0m\u001b[1;33m,\u001b[0m\u001b[0mICA\u001b[0m\u001b[1;33m,\u001b[0m\u001b[0mwindow\u001b[0m\u001b[1;33m)\u001b[0m \u001b[1;31m#\u001b[0m\u001b[1;33m\u001b[0m\u001b[0m\n\u001b[0m\u001b[0;32m     22\u001b[0m \u001b[1;33m\u001b[0m\u001b[0m\n",
      "\u001b[1;32m<ipython-input-82-6b2a80f50ac9>\u001b[0m in \u001b[0;36mcompute_feature\u001b[1;34m(person, case, n_hours, sourcepath, destpath, ICA, window)\u001b[0m\n\u001b[0;32m     22\u001b[0m                         \u001b[1;32mprint\u001b[0m\u001b[1;33m(\u001b[0m\u001b[0mseizure_fn\u001b[0m\u001b[1;33m,\u001b[0m\u001b[1;34m'ica failed!!!!'\u001b[0m\u001b[1;33m)\u001b[0m\u001b[1;33m\u001b[0m\u001b[0m\n\u001b[0;32m     23\u001b[0m                         \u001b[1;32mcontinue\u001b[0m\u001b[1;33m\u001b[0m\u001b[0m\n\u001b[1;32m---> 24\u001b[1;33m                 \u001b[0meigs\u001b[0m \u001b[1;33m=\u001b[0m \u001b[0meig_cor_fft\u001b[0m\u001b[1;33m(\u001b[0m\u001b[0mraw_data\u001b[0m\u001b[1;33m,\u001b[0m\u001b[0mwindow\u001b[0m\u001b[1;33m)\u001b[0m\u001b[1;33m\u001b[0m\u001b[0m\n\u001b[0m\u001b[0;32m     25\u001b[0m             \u001b[1;32melse\u001b[0m\u001b[1;33m:\u001b[0m\u001b[1;33m\u001b[0m\u001b[0m\n\u001b[0;32m     26\u001b[0m                 \u001b[0meigs\u001b[0m \u001b[1;33m=\u001b[0m \u001b[0mnp\u001b[0m\u001b[1;33m.\u001b[0m\u001b[0mzeros\u001b[0m\u001b[1;33m(\u001b[0m\u001b[0mnp\u001b[0m\u001b[1;33m.\u001b[0m\u001b[0masarray\u001b[0m\u001b[1;33m(\u001b[0m\u001b[0mwindow\u001b[0m\u001b[1;33m)\u001b[0m\u001b[1;33m.\u001b[0m\u001b[0mshape\u001b[0m\u001b[1;33m)\u001b[0m\u001b[1;33m\u001b[0m\u001b[0m\n",
      "\u001b[1;32m<ipython-input-81-bad55bfbc555>\u001b[0m in \u001b[0;36meig_cor_fft\u001b[1;34m(rawdata_tenmin, window)\u001b[0m\n\u001b[0;32m      6\u001b[0m     \u001b[0mtr\u001b[0m \u001b[1;33m=\u001b[0m \u001b[1;33m[\u001b[0m\u001b[1;33m]\u001b[0m\u001b[1;33m\u001b[0m\u001b[0m\n\u001b[0;32m      7\u001b[0m     \u001b[1;32mfor\u001b[0m \u001b[0mi\u001b[0m \u001b[1;32min\u001b[0m \u001b[0mrange\u001b[0m\u001b[1;33m(\u001b[0m\u001b[1;36m16\u001b[0m\u001b[1;33m)\u001b[0m\u001b[1;33m:\u001b[0m\u001b[1;33m\u001b[0m\u001b[0m\n\u001b[1;32m----> 8\u001b[1;33m         \u001b[0mtr\u001b[0m\u001b[1;33m.\u001b[0m\u001b[0mappend\u001b[0m\u001b[1;33m(\u001b[0m\u001b[0mfft\u001b[0m\u001b[1;33m(\u001b[0m\u001b[0mrawdata_tenmin\u001b[0m\u001b[1;33m[\u001b[0m\u001b[1;33m:\u001b[0m\u001b[1;33m,\u001b[0m\u001b[0mi\u001b[0m\u001b[1;33m]\u001b[0m\u001b[1;33m)\u001b[0m\u001b[1;33m)\u001b[0m\u001b[1;33m\u001b[0m\u001b[0m\n\u001b[0m\u001b[0;32m      9\u001b[0m         \u001b[0msklearn\u001b[0m\u001b[1;33m.\u001b[0m\u001b[0mpreprocessing\u001b[0m\u001b[1;33m.\u001b[0m\u001b[0mscale\u001b[0m\u001b[1;33m(\u001b[0m\u001b[0mtr\u001b[0m\u001b[1;33m)\u001b[0m\u001b[1;33m\u001b[0m\u001b[0m\n\u001b[0;32m     10\u001b[0m     \u001b[0mtn\u001b[0m \u001b[1;33m=\u001b[0m \u001b[0mnp\u001b[0m\u001b[1;33m.\u001b[0m\u001b[0masarray\u001b[0m\u001b[1;33m(\u001b[0m\u001b[0mtr\u001b[0m\u001b[1;33m)\u001b[0m\u001b[1;33m\u001b[0m\u001b[0m\n",
      "\u001b[1;32m<ipython-input-81-bad55bfbc555>\u001b[0m in \u001b[0;36mfft\u001b[1;34m(time_data)\u001b[0m\n\u001b[0;32m      3\u001b[0m \u001b[1;32mdef\u001b[0m \u001b[0meig_cor_fft\u001b[0m\u001b[1;33m(\u001b[0m\u001b[0mrawdata_tenmin\u001b[0m\u001b[1;33m,\u001b[0m\u001b[0mwindow\u001b[0m\u001b[1;33m)\u001b[0m\u001b[1;33m:\u001b[0m\u001b[1;33m\u001b[0m\u001b[0m\n\u001b[0;32m      4\u001b[0m     \u001b[1;32mdef\u001b[0m \u001b[0mfft\u001b[0m\u001b[1;33m(\u001b[0m\u001b[0mtime_data\u001b[0m\u001b[1;33m)\u001b[0m\u001b[1;33m:\u001b[0m\u001b[1;33m\u001b[0m\u001b[0m\n\u001b[1;32m----> 5\u001b[1;33m         \u001b[1;32mreturn\u001b[0m \u001b[1;33m(\u001b[0m\u001b[0mnp\u001b[0m\u001b[1;33m.\u001b[0m\u001b[0mabsolute\u001b[0m\u001b[1;33m(\u001b[0m\u001b[0mnp\u001b[0m\u001b[1;33m.\u001b[0m\u001b[0mfft\u001b[0m\u001b[1;33m.\u001b[0m\u001b[0mrfft\u001b[0m\u001b[1;33m(\u001b[0m\u001b[0mtime_data\u001b[0m\u001b[1;33m)\u001b[0m\u001b[1;33m[\u001b[0m\u001b[0mwindow\u001b[0m\u001b[1;33m]\u001b[0m\u001b[1;33m)\u001b[0m\u001b[1;33m)\u001b[0m\u001b[1;33m\u001b[0m\u001b[0m\n\u001b[0m\u001b[0;32m      6\u001b[0m     \u001b[0mtr\u001b[0m \u001b[1;33m=\u001b[0m \u001b[1;33m[\u001b[0m\u001b[1;33m]\u001b[0m\u001b[1;33m\u001b[0m\u001b[0m\n\u001b[0;32m      7\u001b[0m     \u001b[1;32mfor\u001b[0m \u001b[0mi\u001b[0m \u001b[1;32min\u001b[0m \u001b[0mrange\u001b[0m\u001b[1;33m(\u001b[0m\u001b[1;36m16\u001b[0m\u001b[1;33m)\u001b[0m\u001b[1;33m:\u001b[0m\u001b[1;33m\u001b[0m\u001b[0m\n",
      "\u001b[1;32m/home/hope-yao/anaconda2/lib/python2.7/site-packages/numpy/fft/fftpack.pyc\u001b[0m in \u001b[0;36mrfft\u001b[1;34m(a, n, axis, norm)\u001b[0m\n\u001b[0;32m    357\u001b[0m     \"\"\"\n\u001b[0;32m    358\u001b[0m     \u001b[1;31m# The copy may be required for multithreading.\u001b[0m\u001b[1;33m\u001b[0m\u001b[1;33m\u001b[0m\u001b[0m\n\u001b[1;32m--> 359\u001b[1;33m     \u001b[0ma\u001b[0m \u001b[1;33m=\u001b[0m \u001b[0marray\u001b[0m\u001b[1;33m(\u001b[0m\u001b[0ma\u001b[0m\u001b[1;33m,\u001b[0m \u001b[0mcopy\u001b[0m\u001b[1;33m=\u001b[0m\u001b[0mTrue\u001b[0m\u001b[1;33m,\u001b[0m \u001b[0mdtype\u001b[0m\u001b[1;33m=\u001b[0m\u001b[0mfloat\u001b[0m\u001b[1;33m)\u001b[0m\u001b[1;33m\u001b[0m\u001b[0m\n\u001b[0m\u001b[0;32m    360\u001b[0m     output = _raw_fft(a, n, axis, fftpack.rffti, fftpack.rfftf,\n\u001b[0;32m    361\u001b[0m                       _real_fft_cache)\n",
      "\u001b[1;31mKeyboardInterrupt\u001b[0m: "
     ]
    }
   ],
   "source": [
    "'''feature extraction entrance'''\n",
    "person = 1 #only for training data\n",
    "ICA = 0\n",
    "window = range(10,50) # only consider 1hz to 60 hz\n",
    "\n",
    "datapath = ['/home/hope-yao/Documents/kaggle/projects/datafiles/train_',str(person)]\n",
    "sourcepath = ''.join(datapath)\n",
    "[ttnf,cnt_szf,file_path] = read_fn(sourcepath)\n",
    "\n",
    "feapath = ['/home/hope-yao/Documents/kaggle/projects/featurefiles/train_',str(person)]\n",
    "destpath = ''.join(feapath)\n",
    "\n",
    "print('sourcepath: ',sourcepath)\n",
    "print('destpath: ',destpath)\n",
    "for case in range(2): # seizure or non-seizure\n",
    "    if case==0:\n",
    "        n_file = ttnf - cnt_szf\n",
    "        n_hours = int(np.ceil(n_file/6.0)) #in case of missing file, like 1_45_1\n",
    "    else:\n",
    "        n_hours = int(np.ceil(cnt_szf/6.0)) #in case of missing file, like 1_45_1\n",
    "    compute_feature(person,case,n_hours,sourcepath,destpath,ICA,window) #\n",
    "\n"
   ]
  },
  {
   "cell_type": "code",
   "execution_count": 85,
   "metadata": {
    "collapsed": false,
    "scrolled": true
   },
   "outputs": [
    {
     "name": "stdout",
     "output_type": "stream",
     "text": [
      "('total number of file found:', 217)\n",
      "('file with missing clip found!', '/home/hope-yao/Documents/kaggle/projects/featurefiles/train_1/1_191_0.npy')\n",
      "('file with missing clip found!', '/home/hope-yao/Documents/kaggle/projects/featurefiles/train_1/1_155_0.npy')\n",
      "('file with missing clip found!', '/home/hope-yao/Documents/kaggle/projects/featurefiles/train_1/1_188_0.npy')\n",
      "('file with missing clip found!', '/home/hope-yao/Documents/kaggle/projects/featurefiles/train_1/1_160_0.npy')\n",
      "('file with missing clip found!', '/home/hope-yao/Documents/kaggle/projects/featurefiles/train_1/1_181_0.npy')\n",
      "('file with missing clip found!', '/home/hope-yao/Documents/kaggle/projects/featurefiles/train_1/1_31_0.npy')\n",
      "('file with missing clip found!', '/home/hope-yao/Documents/kaggle/projects/featurefiles/train_1/1_74_0.npy')\n",
      "('file with missing clip found!', '/home/hope-yao/Documents/kaggle/projects/featurefiles/train_1/1_137_0.npy')\n",
      "('file with missing clip found!', '/home/hope-yao/Documents/kaggle/projects/featurefiles/train_1/1_156_0.npy')\n",
      "('file with missing clip found!', '/home/hope-yao/Documents/kaggle/projects/featurefiles/train_1/1_81_0.npy')\n",
      "('file with missing clip found!', '/home/hope-yao/Documents/kaggle/projects/featurefiles/train_1/1_190_0.npy')\n",
      "('file with missing clip found!', '/home/hope-yao/Documents/kaggle/projects/featurefiles/train_1/1_16_1.npy')\n",
      "('file with missing clip found!', '/home/hope-yao/Documents/kaggle/projects/featurefiles/train_1/1_15_0.npy')\n",
      "('file with missing clip found!', '/home/hope-yao/Documents/kaggle/projects/featurefiles/train_1/1_16_0.npy')\n",
      "('file with missing clip found!', '/home/hope-yao/Documents/kaggle/projects/featurefiles/train_1/1_7_1.npy')\n",
      "('file with missing clip found!', '/home/hope-yao/Documents/kaggle/projects/featurefiles/train_1/1_20_1.npy')\n",
      "('file with missing clip found!', '/home/hope-yao/Documents/kaggle/projects/featurefiles/train_1/1_182_0.npy')\n",
      "('file with missing clip found!', '/home/hope-yao/Documents/kaggle/projects/featurefiles/train_1/1_10_1.npy')\n",
      "('file with missing clip found!', '/home/hope-yao/Documents/kaggle/projects/featurefiles/train_1/1_136_0.npy')\n",
      "('file with missing clip found!', '/home/hope-yao/Documents/kaggle/projects/featurefiles/train_1/1_24_1.npy')\n",
      "('file with missing clip found!', '/home/hope-yao/Documents/kaggle/projects/featurefiles/train_1/1_94_0.npy')\n",
      "('file with missing clip found!', '/home/hope-yao/Documents/kaggle/projects/featurefiles/train_1/1_76_0.npy')\n",
      "('file with missing clip found!', '/home/hope-yao/Documents/kaggle/projects/featurefiles/train_1/1_32_0.npy')\n",
      "('file with missing clip found!', '/home/hope-yao/Documents/kaggle/projects/featurefiles/train_1/1_9_1.npy')\n",
      "('file with missing clip found!', '/home/hope-yao/Documents/kaggle/projects/featurefiles/train_1/1_58_0.npy')\n",
      "(1002, 16)\n",
      "1002\n"
     ]
    }
   ],
   "source": [
    "'''read feature data'''\n",
    "person = 1\n",
    "feapath = ['/home/hope-yao/Documents/kaggle/projects/featurefiles/train_',str(person)]\n",
    "destpath = ''.join(feapath)\n",
    "f = []\n",
    "for (dirpath, dirnames, filenames) in walk(destpath):\n",
    "    for fn in filenames:\n",
    "        if fn[-3:]=='npy':\n",
    "            f.extend([fn])\n",
    "    break\n",
    "file_path = []\n",
    "for x in f:\n",
    "    file_path.extend([dirpath+'/'+x])\n",
    "\n",
    "ttnf = len(file_path)\n",
    "print('total number of file found:',ttnf)\n",
    "\n",
    "n = ttnf #ttnf\n",
    "fea_sig = []\n",
    "fea_label = []\n",
    "for i,fp in enumerate(file_path[0:n]):\n",
    "    idx_tmp = int(fp[fp.rfind('/')+3:len(fp)-6])\n",
    "    if fp[-5]:\n",
    "        if person ==1:\n",
    "            flg_safe = data_safe[1152 + idx_tmp * 6]\n",
    "        else:\n",
    "            print('error')\n",
    "            break\n",
    "    else:\n",
    "        flg_safe = data_safe[idx_tmp * 6]\n",
    "        \n",
    "    # skip contaminated data\n",
    "    if flg_safe==0:\n",
    "        continue\n",
    "        \n",
    "    fea_data = np.load(fp)\n",
    "    tmp = fea_data # inside structure\n",
    "    if  tmp.shape==(6,16):  # check signal size\n",
    "        if (np.count_nonzero(tmp)):\n",
    "            if 0:\n",
    "                tmp_onehour = []\n",
    "                for i in range(tmp.shape[0]):\n",
    "                    tmp_onehour = tmp_onehour + tmp[i,:].tolist()\n",
    "                fea_sig.append(tmp_onehour) #nf ,raw_data_length,num_ch\n",
    "                fea_label.append(int(fp[-5]))\n",
    "            else:\n",
    "                for i in range(tmp.shape[0]):\n",
    "                    fea_sig.append(tmp[i,:]) #nf ,raw_data_length,num_ch\n",
    "                    fea_label.append(int(fp[-5]))               \n",
    "    else:\n",
    "        print('file with missing clip found!',fp)\n",
    "fea_sig = np.asarray(fea_sig)\n",
    "print(fea_sig.shape)\n",
    "print(len(fea_label))\n"
   ]
  },
  {
   "cell_type": "code",
   "execution_count": 9,
   "metadata": {
    "collapsed": false
   },
   "outputs": [
    {
     "data": {
      "image/png": "[encoded data removed]",
      "text/plain": [
       "<matplotlib.figure.Figure at 0x7f1e50452f50>"
      ]
     },
     "metadata": {},
     "output_type": "display_data"
    }
   ],
   "source": [
    "'''T-SNE Visualization in feature space'''\n",
    "from sklearn.manifold import TSNE\n",
    "model = TSNE(n_components=2, random_state=0)\n",
    "np.set_printoptions(suppress=True)\n",
    "T = model.fit_transform(fea_sig) \n",
    "\n",
    "# from mpl_toolkits.mplot3d import Axes3D\n",
    "# %pylab qt\n",
    "%matplotlib inline\n",
    "\n",
    "fig = plt.figure()\n",
    "# ax = plt.axes(projection='3d')\n",
    "for i,k in enumerate(fea_label):\n",
    "    if k==0:\n",
    "        plt.plot(T[i,0],T[i,1],'b.')\n",
    "#         ax.scatter(T[i,0],T[i,1],T[i,2],c='b')\n",
    "    else:\n",
    "        plt.plot(T[i,0],T[i,1],'ro')\n",
    "#         ax.scatter(T[i,0],T[i,1],T[i,2],c='r')\n",
    "        \n",
    "        "
   ]
  },
  {
   "cell_type": "code",
   "execution_count": 86,
   "metadata": {
    "collapsed": false,
    "scrolled": true
   },
   "outputs": [
    {
     "data": {
      "image/png": "[encoded data removed]",
      "text/plain": [
       "<matplotlib.figure.Figure at 0x7f1de0650810>"
      ]
     },
     "metadata": {},
     "output_type": "display_data"
    }
   ],
   "source": [
    "for i,k in enumerate(fea_label):\n",
    "    sig = fea_sig[i,:]\n",
    "    if k==0:\n",
    "        ax1 = plt.subplot(2,1,1)\n",
    "        ax1.plot(range(4),sig[len(sig)-4:len(sig)+1],'b')\n",
    "    else:\n",
    "        ax2 = plt.subplot(2,1,2)\n",
    "        ax2.plot(range(4),sig[len(sig)-4:len(sig)+1],'r')\n",
    "ax1.set_ylim([0,16])\n",
    "ax2.set_ylim([0,16])\n",
    "plt.show()\n"
   ]
  },
  {
   "cell_type": "code",
   "execution_count": 88,
   "metadata": {
    "collapsed": true
   },
   "outputs": [],
   "source": [
    "'''data balance and training/testing split'''\n",
    "from imblearn.over_sampling import SMOTE\n",
    "from random import sample\n",
    "\n",
    "# Apply regular SMOTE\n",
    "sm = SMOTE(kind='regular')\n",
    "data_balance, label_balance = sm.fit_sample(fea_sig, fea_label)\n",
    "\n",
    "l = len(data_balance) #length of data \n",
    "f = int(0.1*l)  # 10% for testing\n",
    "indices = sample(range(l),f)\n",
    "\n",
    "data_train = data_balance[indices]\n",
    "label_train = label_balance[indices]\n",
    "\n",
    "data_test = np.delete(data_balance,indices)\n",
    "label_test = np.delete(label_balance,indices)\n"
   ]
  },
  {
   "cell_type": "code",
   "execution_count": 75,
   "metadata": {
    "collapsed": false
   },
   "outputs": [
    {
     "name": "stdout",
     "output_type": "stream",
     "text": [
      "RandomizedSearchCV took 54.79 seconds for 20 candidates parameter settings.\n"
     ]
    }
   ],
   "source": [
    "'''Random Forest'''\n",
    "# specify parameters and distributions to sample from\n",
    "\n",
    "#from sklearn.model_selection import GridSearchCV\n",
    "from sklearn.grid_search import RandomizedSearchCV\n",
    "from sklearn.datasets import load_digits\n",
    "from sklearn.ensemble import RandomForestClassifier\n",
    "from time import time\n",
    "from scipy.stats import randint as sp_randint\n",
    "\n",
    "param_dist = {\"max_depth\": [3, None],\n",
    "              \"max_features\": sp_randint(1, 11),\n",
    "              \"min_samples_split\": sp_randint(1, 11),\n",
    "              \"min_samples_leaf\": sp_randint(1, 11),\n",
    "              \"bootstrap\": [True, False],\n",
    "              \"criterion\": [\"gini\", \"entropy\"]}\n",
    "\n",
    "# run randomized search\n",
    "clf = RandomForestClassifier(n_estimators=200,n_jobs=-1)\n",
    "\n",
    "n_iter_search = 20\n",
    "random_search = RandomizedSearchCV(clf, param_distributions=param_dist,\n",
    "                                   n_iter=n_iter_search)\n",
    "\n",
    "start = time()\n",
    "\n",
    "\n",
    "random_search.fit(data_train, label_train)\n",
    "print(\"RandomizedSearchCV took %.2f seconds for %d candidates\"\n",
    "      \" parameter settings.\" % ((time() - start), n_iter_search))\n",
    "#report(random_search.cv_results_)\n"
   ]
  },
  {
   "cell_type": "code",
   "execution_count": 89,
   "metadata": {
    "collapsed": false
   },
   "outputs": [
    {
     "name": "stdout",
     "output_type": "stream",
     "text": [
      "ROC score    : 0.7378.\n"
     ]
    },
    {
     "data": {
      "image/png": "[encoded data removed]",
      "text/plain": [
       "<matplotlib.figure.Figure at 0x7f1e2397dd10>"
      ]
     },
     "metadata": {},
     "output_type": "display_data"
    }
   ],
   "source": [
    "from sklearn.metrics import roc_auc_score\n",
    "from sklearn.metrics import roc_curve, auc\n",
    "\n",
    "data_test = fea_sig[0:100]\n",
    "label_test = fea_label[0:100]\n",
    "\n",
    "y_pred = random_search.predict(data_test)\n",
    "RFprobaR=random_search.predict_proba(data_test)\n",
    "print (\"ROC score    : {:.4f}.\".format(roc_auc_score(np.array(label_test), np.array(RFprobaR[:,1]))))\n",
    "\n",
    "fpr, tpr, _ = roc_curve(label_test, RFprobaR[:,1])\n",
    "roc_auc = auc(fpr, tpr)\n",
    "plt.figure()\n",
    "lw = 2\n",
    "plt.plot(fpr, tpr, color='darkorange',\n",
    "         lw=lw, label='ROC curve (area = %0.2f)' % roc_auc)\n",
    "plt.plot([0, 1], [0, 1], color='navy', lw=lw, linestyle='--')\n",
    "plt.xlim([0.0, 1.0])\n",
    "plt.ylim([0.0, 1.05])\n",
    "plt.xlabel('False Positive Rate')\n",
    "plt.ylabel('True Positive Rate')\n",
    "plt.title('Receiver operating curve- Random Forest')\n",
    "plt.legend(loc=\"lower right\")\n",
    "plt.show()"
   ]
  },
  {
   "cell_type": "code",
   "execution_count": 90,
   "metadata": {
    "collapsed": false
   },
   "outputs": [
    {
     "data": {
      "text/plain": [
       "<matplotlib.text.Text at 0x7f1de01e7ed0>"
      ]
     },
     "execution_count": 90,
     "metadata": {},
     "output_type": "execute_result"
    },
    {
     "data": {
      "image/png": "[encoded data removed]",
      "text/plain": [
       "<matplotlib.figure.Figure at 0x7f1de0400f10>"
      ]
     },
     "metadata": {},
     "output_type": "display_data"
    }
   ],
   "source": [
    "from sklearn.metrics import confusion_matrix\n",
    "import seaborn as sns\n",
    "\n",
    "# Compute confusion matrix for a model\n",
    "cm=confusion_matrix(y_pred,label_test)\n",
    "\n",
    "# view with a heatmap\n",
    "sns.heatmap(cm, annot=True, cmap='RdBu', xticklabels=['no', 'yes'], yticklabels=['no', 'yes'], linewidth=.5)\n",
    "plt.ylabel('True label')\n",
    "plt.xlabel('Predicted label')\n",
    "plt.title('Confusion matrix for:\\n{}'.format(\" Random Forest \"))"
   ]
  },
  {
   "cell_type": "code",
   "execution_count": 19,
   "metadata": {
    "collapsed": false
   },
   "outputs": [
    {
     "ename": "NameError",
     "evalue": "name 'label' is not defined",
     "output_type": "error",
     "traceback": [
      "\u001b[1;31m---------------------------------------------------------------------------\u001b[0m",
      "\u001b[1;31mNameError\u001b[0m                                 Traceback (most recent call last)",
      "\u001b[1;32m<ipython-input-19-044ca3132890>\u001b[0m in \u001b[0;36m<module>\u001b[1;34m()\u001b[0m\n\u001b[0;32m      1\u001b[0m \u001b[1;34m'''visualization'''\u001b[0m\u001b[1;33m\u001b[0m\u001b[0m\n\u001b[0;32m      2\u001b[0m \u001b[1;33m\u001b[0m\u001b[0m\n\u001b[1;32m----> 3\u001b[1;33m \u001b[1;32mfor\u001b[0m \u001b[0mi\u001b[0m\u001b[1;33m,\u001b[0m\u001b[0ml\u001b[0m \u001b[1;32min\u001b[0m \u001b[0menumerate\u001b[0m\u001b[1;33m(\u001b[0m\u001b[0mlabel\u001b[0m\u001b[1;33m[\u001b[0m\u001b[1;36m0\u001b[0m\u001b[1;33m:\u001b[0m\u001b[1;36m5\u001b[0m\u001b[1;33m]\u001b[0m\u001b[1;33m)\u001b[0m\u001b[1;33m:\u001b[0m\u001b[1;33m\u001b[0m\u001b[0m\n\u001b[0m\u001b[0;32m      4\u001b[0m     \u001b[0msig\u001b[0m \u001b[1;33m=\u001b[0m \u001b[0mraw_sig\u001b[0m\u001b[1;33m[\u001b[0m\u001b[0mi\u001b[0m\u001b[1;33m,\u001b[0m\u001b[1;33m:\u001b[0m\u001b[1;33m,\u001b[0m\u001b[1;33m:\u001b[0m\u001b[1;33m]\u001b[0m\u001b[1;33m\u001b[0m\u001b[0m\n\u001b[0;32m      5\u001b[0m     \u001b[1;32mif\u001b[0m \u001b[0ml\u001b[0m\u001b[1;33m==\u001b[0m\u001b[1;36m1\u001b[0m\u001b[1;33m:\u001b[0m\u001b[1;33m\u001b[0m\u001b[0m\n",
      "\u001b[1;31mNameError\u001b[0m: name 'label' is not defined"
     ]
    }
   ],
   "source": [
    "'''visualization''' \n",
    "\n",
    "for i,l in enumerate(label[0:5]):\n",
    "    sig = raw_sig[i,:,:]\n",
    "    if l==1:\n",
    "        fig = plt_allch(sig,'r')\n",
    "        s = ['./vis/seizure/',str(i),'.png']\n",
    "        ss = ''.join(s)\n",
    "        fig.savefig(ss)  \n",
    "    else:\n",
    "        fig = plt_allch(sig,'b')\n",
    "        s = ['./vis/non-seizure/',str(i),'.png']\n",
    "        ss = ''.join(s)\n",
    "        fig.savefig(ss)  \n",
    "\n",
    "# cnt = 0\n",
    "# for i,p in enumerate(sig):\n",
    "#     if not np.count_nonzero(p):\n",
    "#         sig[j,:,i] =  (sig[j-1,:,i] + sig[j+1,:,i]) / 2\n",
    "# #             print(j,i)\n",
    "#         cnt = cnt + 1\n",
    "# print(cnt)\n",
    "\n",
    "# cnt = 0\n",
    "# for zero_value in raw_sig:\n",
    "#     for i in range(len(raw_sig[0,0,:])):\n",
    "#         if zero_value[:,i].all == (np.asarray([0,0,0,0,0,0,0,0,0,0,0,0,0,0,0,0])).all:\n",
    "#             zero_value[:,i] =  (zero_value[:,i+1] + zero_value[:,i-1]) / 2\n",
    "#             cnt = cnt + 1\n",
    "# print(cnt)"
   ]
  },
  {
   "cell_type": "code",
   "execution_count": 147,
   "metadata": {
    "collapsed": true
   },
   "outputs": [],
   "source": [
    "'''Wavelet''' \n",
    "\n",
    "def single_channel_dwt(sig):\n",
    "#     input 240000\n",
    "    coeffs = pywt.wavedec(sig, 'db2', level=6)\n",
    "    cA2, cD6, cD5, cD4, cD3, cD2, cD1 = coeffs\n",
    "    return cD6\n",
    "#     coeffs = pywt.wavedec(sig, 'db1', level=6)\n",
    "#     cA2, cD6, cD5, cD4, cD3, cD2, cD1 = coeffs\n",
    "#     return cD6\n",
    "\n",
    "def multi_channel_dwt(sig):\n",
    "#     input: 240000 * 16\n",
    "#     return: k * 16\n",
    "    F = []\n",
    "    for s_sig in sig.T:\n",
    "        cd = single_channel_dwt(s_sig)\n",
    "        F.append(cd)\n",
    "#     return np.asarray(F)\n",
    "    return F\n"
   ]
  },
  {
   "cell_type": "code",
   "execution_count": 148,
   "metadata": {
    "collapsed": false,
    "scrolled": true
   },
   "outputs": [
    {
     "name": "stdout",
     "output_type": "stream",
     "text": [
      "(1267, 240000, 16)\n"
     ]
    },
    {
     "data": {
      "text/plain": [
       "3752"
      ]
     },
     "execution_count": 148,
     "metadata": {},
     "output_type": "execute_result"
    }
   ],
   "source": [
    "print(raw_sig.shape)\n",
    "tmp = multi_channel_dwt(raw_sig[5,:,:])\n",
    "len(tmp[0])"
   ]
  }
 ],
 "metadata": {
  "kernelspec": {
   "display_name": "Python [Root]",
   "language": "python",
   "name": "Python [Root]"
  },
  "language_info": {
   "codemirror_mode": {
    "name": "ipython",
    "version": 2
   },
   "file_extension": ".py",
   "mimetype": "text/x-python",
   "name": "python",
   "nbconvert_exporter": "python",
   "pygments_lexer": "ipython2",
   "version": "2.7.12"
  }
 },
 "nbformat": 4,
 "nbformat_minor": 0
}
